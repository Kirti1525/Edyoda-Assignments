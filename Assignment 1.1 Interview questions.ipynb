{
 "cells": [
  {
   "cell_type": "code",
   "execution_count": null,
   "id": "b7189e96",
   "metadata": {},
   "outputs": [],
   "source": [
    "Find and read 20 interview questions for Data Types, Operators, Conditional Statements, Looping Statements, Functions."
   ]
  },
  {
   "cell_type": "code",
   "execution_count": null,
   "id": "e583f750",
   "metadata": {},
   "outputs": [],
   "source": [
    "# Data Types:\n",
    "\n",
    "1) What are the primitive data types in Python?\n",
    "\n",
    "2) Explain the difference between integers and floating-point numbers.\n",
    "\n",
    "3) How do you define a string in Python?\n",
    "\n",
    "4) What is the difference between a list and a tuple in Python?\n",
    "\n",
    "5) How do you check the data type of a variable in Python?\n",
    "\n",
    "# Operators:\n",
    "\n",
    "6) What is the difference between the '==' and 'is' operators in Python?\n",
    "\n",
    "7) Explain the concept of operator precedence in Python.\n",
    "\n",
    "8) How do you perform exponentiation in Python?\n",
    "\n",
    "9) What is the purpose of the 'in' operator in Python?\n",
    "\n",
    "10)Explain the difference between 'and' and 'or' operators in Python.\n",
    "\n",
    "#Conditional Statements: \n",
    "    \n",
    "11) How do you write an if statement in Python?\n",
    "\n",
    "12) What is the purpose of the 'elif' statement?\n",
    "\n",
    "13) Explain the difference between '==' and '!=' operators in conditional statements.\n",
    "\n",
    "14) How do you use the 'pass' statement in Python?\n",
    "\n",
    "15) What is the purpose of the 'assert' statement in Python?\n",
    "\n",
    "#Looping Statements:\n",
    "\n",
    "16) How do you write a for loop in Python?\n",
    "\n",
    "17) Explain the difference between 'while' and 'do-while' loops.\n",
    "\n",
    "18) What is the purpose of the 'break' and 'continue' statements?\n",
    "\n",
    "19) How do you iterate over items in a dictionary using a loop in Python?\n",
    "\n",
    "#Functions:\n",
    "\n",
    "20) What is a function in Python?\n",
    "\n",
    "21) How do you define a function in Python?\n",
    "\n",
    "22) Explain the difference between parameters and arguments in a function.\n",
    "\n",
    "23) What is the purpose of the 'return' statement in a function?\n",
    "\n",
    "24) How do you call a function in Python?"
   ]
  }
 ],
 "metadata": {
  "kernelspec": {
   "display_name": "Python 3",
   "language": "python",
   "name": "python3"
  },
  "language_info": {
   "codemirror_mode": {
    "name": "ipython",
    "version": 3
   },
   "file_extension": ".py",
   "mimetype": "text/x-python",
   "name": "python",
   "nbconvert_exporter": "python",
   "pygments_lexer": "ipython3",
   "version": "3.8.8"
  }
 },
 "nbformat": 4,
 "nbformat_minor": 5
}
