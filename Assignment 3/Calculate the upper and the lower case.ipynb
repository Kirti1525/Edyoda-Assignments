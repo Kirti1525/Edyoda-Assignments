{
 "cells": [
  {
   "cell_type": "code",
   "execution_count": 6,
   "id": "908a88c1",
   "metadata": {},
   "outputs": [
    {
     "name": "stdout",
     "output_type": "stream",
     "text": [
      "Enter a string: Python Is A Programming Language\n",
      "Number of uppercase letters: 5\n",
      "Number of lowercase letters: 23\n"
     ]
    }
   ],
   "source": [
    "# by taking user input:\n",
    "def count_letters(str):\n",
    "    u = 0\n",
    "    l = 0\n",
    "    for char in str:\n",
    "        if char.isupper():\n",
    "            u += 1\n",
    "        elif char.islower():\n",
    "            l += 1\n",
    "    return u,l\n",
    "user_input = input(\"Enter a string: \")\n",
    "upper_count, lower_count = count_letters(user_input)\n",
    "print(\"Number of uppercase letters:\", upper_count)\n",
    "print(\"Number of lowercase letters:\", lower_count)"
   ]
  },
  {
   "cell_type": "code",
   "execution_count": 4,
   "id": "d36ff44c",
   "metadata": {},
   "outputs": [
    {
     "name": "stdout",
     "output_type": "stream",
     "text": [
      "No. of Upper case characters : 4,No. of Lower case characters : 36\n"
     ]
    }
   ],
   "source": [
    "# Already gave the input:\n",
    "def up_low(s):      \n",
    "    u = sum(1 for i in s if i.isupper())\n",
    "    l = sum(1 for i in s if i.islower())\n",
    "    print( \"No. of Upper case characters : %s,No. of Lower case characters : %s\" % (u,l))\n",
    "\n",
    "up_low(\"Hello Miss.Kirti, how are you this fine Wednesday?\")"
   ]
  }
 ],
 "metadata": {
  "kernelspec": {
   "display_name": "Python 3",
   "language": "python",
   "name": "python3"
  },
  "language_info": {
   "codemirror_mode": {
    "name": "ipython",
    "version": 3
   },
   "file_extension": ".py",
   "mimetype": "text/x-python",
   "name": "python",
   "nbconvert_exporter": "python",
   "pygments_lexer": "ipython3",
   "version": "3.8.8"
  }
 },
 "nbformat": 4,
 "nbformat_minor": 5
}
