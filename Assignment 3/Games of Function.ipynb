{
 "cells": [
  {
   "cell_type": "code",
   "execution_count": 13,
   "id": "979d86d3",
   "metadata": {},
   "outputs": [
    {
     "name": "stdout",
     "output_type": "stream",
     "text": [
      "Total: 20\n"
     ]
    }
   ],
   "source": [
    "# List is already defined by using function:\n",
    "def sum(numbers):\n",
    "    total = 0\n",
    "    for x in numbers:\n",
    "        total += x\n",
    "    return total\n",
    "print(\"Total:\",sum((8, 2, 3, 0, 7)))\n"
   ]
  },
  {
   "cell_type": "code",
   "execution_count": 1,
   "id": "9e97b60a",
   "metadata": {},
   "outputs": [
    {
     "name": "stdout",
     "output_type": "stream",
     "text": [
      "Enter a list of numbers (space-separated): 10 20 30 40 50\n",
      "The sum of the numbers is: 150\n"
     ]
    }
   ],
   "source": [
    "#Take a list from user by using function:\n",
    "def sum_numbers():\n",
    "    num_list = input(\"Enter a list of numbers (space-separated): \").split()\n",
    "    num_list = [int(num) for num in num_list]\n",
    "    total = sum(num_list)\n",
    "    return total\n",
    "result = sum_numbers()\n",
    "print(\"The sum of the numbers is:\", result)"
   ]
  },
  {
   "cell_type": "code",
   "execution_count": null,
   "id": "e21d1058",
   "metadata": {},
   "outputs": [],
   "source": [
    " We use the split() method to split the input string into a list of individual numbers as strings."
   ]
  },
  {
   "cell_type": "code",
   "execution_count": 2,
   "id": "9cdad777",
   "metadata": {},
   "outputs": [
    {
     "name": "stdout",
     "output_type": "stream",
     "text": [
      "The sum of the numbers is: 20\n"
     ]
    }
   ],
   "source": [
    "# without using function:\n",
    "numbers = [8,2,3,0,7]\n",
    "total = 0\n",
    "for num in numbers:\n",
    "    total += num\n",
    "print(\"The sum of the numbers is:\", total)"
   ]
  }
 ],
 "metadata": {
  "kernelspec": {
   "display_name": "Python 3",
   "language": "python",
   "name": "python3"
  },
  "language_info": {
   "codemirror_mode": {
    "name": "ipython",
    "version": 3
   },
   "file_extension": ".py",
   "mimetype": "text/x-python",
   "name": "python",
   "nbconvert_exporter": "python",
   "pygments_lexer": "ipython3",
   "version": "3.8.8"
  }
 },
 "nbformat": 4,
 "nbformat_minor": 5
}
