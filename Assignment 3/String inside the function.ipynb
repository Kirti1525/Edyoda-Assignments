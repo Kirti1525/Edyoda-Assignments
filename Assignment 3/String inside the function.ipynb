{
 "cells": [
  {
   "cell_type": "code",
   "execution_count": 1,
   "id": "4c0e9b81",
   "metadata": {},
   "outputs": [
    {
     "name": "stdout",
     "output_type": "stream",
     "text": [
      "Enter a string:1234abcd\n",
      "Reversed String: dcba4321\n"
     ]
    }
   ],
   "source": [
    "#  Take input from user by using function:\n",
    "def reverse_string(str):\n",
    "    s2 = \"\"\n",
    "    for i in str:\n",
    "        s2 = i + s2\n",
    "    return s2\n",
    "str = input(\"Enter a string:\")\n",
    "op=reverse_string(str)\n",
    "print(\"Reversed String:\",op)"
   ]
  },
  {
   "cell_type": "code",
   "execution_count": 2,
   "id": "c1b69bae",
   "metadata": {},
   "outputs": [
    {
     "name": "stdout",
     "output_type": "stream",
     "text": [
      "Enter a string:EdYoda is a digital university \n",
      "The reversed string is :   ytisrevinu latigid a si adoYdE\n"
     ]
    }
   ],
   "source": [
    "# without using function:\n",
    "string=input(\"Enter a string:\")\n",
    "str = \"\"\n",
    "for i in string:\n",
    "    str = i + str    \n",
    "print(\"The reversed string is : \", str)"
   ]
  },
  {
   "cell_type": "code",
   "execution_count": 3,
   "id": "a7fc363a",
   "metadata": {},
   "outputs": [
    {
     "name": "stdout",
     "output_type": "stream",
     "text": [
      "egaugnal lufrednow a si nohtyP"
     ]
    }
   ],
   "source": [
    "# without taking input from user:\n",
    "a=\"Python is a wonderful language\"\n",
    "b = reversed(a)\n",
    "for x in b:\n",
    "  print(x,end=\"\")"
   ]
  }
 ],
 "metadata": {
  "kernelspec": {
   "display_name": "Python 3",
   "language": "python",
   "name": "python3"
  },
  "language_info": {
   "codemirror_mode": {
    "name": "ipython",
    "version": 3
   },
   "file_extension": ".py",
   "mimetype": "text/x-python",
   "name": "python",
   "nbconvert_exporter": "python",
   "pygments_lexer": "ipython3",
   "version": "3.8.8"
  }
 },
 "nbformat": 4,
 "nbformat_minor": 5
}
