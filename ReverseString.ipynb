{
 "cells": [
  {
   "cell_type": "code",
   "execution_count": 1,
   "id": "61357a15",
   "metadata": {},
   "outputs": [
    {
     "name": "stdout",
     "output_type": "stream",
     "text": [
      "Enter String:EdYoda\n",
      "adoYdE\n"
     ]
    }
   ],
   "source": [
    "def reverse_string(s):\n",
    "    s2 = \"\"\n",
    "    for i in s:\n",
    "        s2 = i + s2\n",
    "    return s2\n",
    "s = input(\"Enter String:\")\n",
    "op=reverse_string(s)\n",
    "print(op)"
   ]
  },
  {
   "cell_type": "code",
   "execution_count": 5,
   "id": "f550c4da",
   "metadata": {},
   "outputs": [
    {
     "name": "stdout",
     "output_type": "stream",
     "text": [
      "Enter the String:EdYoda\n",
      "adoYdE"
     ]
    }
   ],
   "source": [
    "a= input(\"Enter the String:\")\n",
    "b = reversed(a)\n",
    "for x in b:\n",
    "  print(x,end=\"\")"
   ]
  },
  {
   "cell_type": "code",
   "execution_count": 6,
   "id": "d1c072c2",
   "metadata": {},
   "outputs": [
    {
     "name": "stdout",
     "output_type": "stream",
     "text": [
      "Enter a string:EdYoda\n",
      "The reversed string is :  adoYdE\n"
     ]
    }
   ],
   "source": [
    "string=input(\"Enter a string:\")\n",
    "str = \"\"\n",
    "for i in string:\n",
    "    str = i + str\n",
    "    \n",
    "print(\"The reversed string is : \", str)"
   ]
  }
 ],
 "metadata": {
  "kernelspec": {
   "display_name": "Python 3",
   "language": "python",
   "name": "python3"
  },
  "language_info": {
   "codemirror_mode": {
    "name": "ipython",
    "version": 3
   },
   "file_extension": ".py",
   "mimetype": "text/x-python",
   "name": "python",
   "nbconvert_exporter": "python",
   "pygments_lexer": "ipython3",
   "version": "3.8.8"
  }
 },
 "nbformat": 4,
 "nbformat_minor": 5
}
