{
 "cells": [
  {
   "cell_type": "markdown",
   "id": "2ed436fd",
   "metadata": {},
   "source": [
    "# Challenge 1: Square Numbers and Return Their Sum\n",
    "\n",
    "In this challenge, you need to implement a method that squares passing variables and returns their sum.\n",
    "\n",
    "Problem statement: Implement a class Point that has three properties and a method. \n",
    "All these attributes (properties and methods) should be public. \n",
    "This problem can be broken down into two tasks:\n",
    "Task 1: Implement a constructor to initialize the values of three properties: x, y, and z.\n",
    "Task 2: Implement a method, sqSum(), in the Point class which squares x, y, and z and returns their sum.\n",
    "Sample properties 1, 3, 5\n",
    "Sample method output 35"
   ]
  },
  {
   "cell_type": "code",
   "execution_count": 12,
   "id": "7a6ef16a",
   "metadata": {},
   "outputs": [
    {
     "name": "stdout",
     "output_type": "stream",
     "text": [
      "35\n"
     ]
    }
   ],
   "source": [
    "class Point:\n",
    "    def __init__(self, x, y, z):\n",
    "        self.x = x\n",
    "        self.y = y\n",
    "        self.z = z\n",
    "\n",
    "    def sq_Sum(self):\n",
    "        return self.x**2 + self.y**2 + self.z**2\n",
    "    \n",
    "point = Point(1, 3, 5)\n",
    "result = point.sq_Sum()\n",
    "print(result) \n"
   ]
  },
  {
   "cell_type": "markdown",
   "id": "c830af47",
   "metadata": {},
   "source": [
    "# Challenge 2: Implement a Calculator Class\n",
    "\n",
    "In this exercise, you have to implement a calculator that can perform addition, subtraction, multiplication, and division.\n",
    "\n",
    "Problem statement Write a Python class called Calculator by completing the tasks below:\n",
    "\n",
    "Task 1:\n",
    "Initializer\n",
    "Implement an initializer to initialize the values of num1 and num2. Properties\n",
    "• num1\n",
    "• num2\n",
    "Task 2:\n",
    "Methods\n",
    "• add() is a method that returns the sum of num1 and num2.\n",
    "• subtract() is a method that returns the subtraction of num1 from num2.\n",
    "• multiply() is a method that returns the product of num1 and num2.\n",
    "• divide() is a method that returns the division of num2 by num1.\n",
    "Input - Pass numbers (integers or floats) in the initializer.\n",
    "Output - addition, subtraction, division, and multiplication\n",
    "Sample input\n",
    "obj = Calculator(10, 94)\n",
    "obj.add()\n",
    "obj.subtract()\n",
    "obj.multiply()\n",
    "obj.divide()\n",
    "Sample output\n",
    "104\n",
    "84\n",
    "940\n",
    "9.4"
   ]
  },
  {
   "cell_type": "code",
   "execution_count": 13,
   "id": "a9877107",
   "metadata": {},
   "outputs": [
    {
     "name": "stdout",
     "output_type": "stream",
     "text": [
      "104\n",
      "84\n",
      "940\n",
      "9.4\n"
     ]
    }
   ],
   "source": [
    "class Calculator:\n",
    "    def __init__(self, num1, num2):\n",
    "        self.num1 = num1\n",
    "        self.num2 = num2\n",
    "\n",
    "    def add(self):\n",
    "        return self.num1 + self.num2\n",
    "\n",
    "    def subtract(self):\n",
    "        return self.num2 - self.num1\n",
    "\n",
    "    def multiply(self):\n",
    "        return self.num1 * self.num2\n",
    "\n",
    "    def divide(self):\n",
    "        return self.num2 / self.num1\n",
    "    \n",
    "calculator = Calculator(10, 94)\n",
    "addition_result = calculator.add()\n",
    "subtraction_result = calculator.subtract()\n",
    "multiplication_result = calculator.multiply()\n",
    "division_result = calculator.divide()\n",
    "\n",
    "print(addition_result)       \n",
    "print(subtraction_result)    \n",
    "print(multiplication_result) \n",
    "print(division_result)       \n",
    "\n"
   ]
  },
  {
   "cell_type": "markdown",
   "id": "18ebb2e5",
   "metadata": {},
   "source": [
    "# Challenge 3: Implement the Complete Student Class\n",
    "\n",
    "In thischallenge, you will implement a student class\n",
    "Problem statement\n",
    "Implement the complete Student class by completing the tasks below\n",
    "Task\n",
    "Implement the following properties as private:\n",
    "• name\n",
    "• rollNumber\n",
    "Include the following methods to get and set the private properties above:\n",
    "• getName()\n",
    "• setName()\n",
    "• getRollNumber()\n",
    "• setRollNumber()\n",
    "Implement this class according to the rules of encapsulation.\n",
    "\n",
    "Input - Checking all the properties and methods\n",
    "\n",
    "Output - Expecting perfectly defined fields and getter/setters"
   ]
  },
  {
   "cell_type": "code",
   "execution_count": 10,
   "id": "e9e3e62d",
   "metadata": {},
   "outputs": [
    {
     "name": "stdout",
     "output_type": "stream",
     "text": [
      "Seeta\n",
      "10249\n"
     ]
    }
   ],
   "source": [
    "class Student:\n",
    "    def __init__(self):\n",
    "        self.name = None\n",
    "        self.rollNumber = None\n",
    "\n",
    "    def set_name(self, name):\n",
    "        self.name = name\n",
    "\n",
    "    def get_name(self):\n",
    "        return self.name\n",
    "\n",
    "    def set_rollNumber(self, rollNumber):\n",
    "        self.rollNumber = rollNumber\n",
    "\n",
    "    def get_rollNumber(self):\n",
    "        return self.rollNumber\n",
    "    \n",
    "student = Student()\n",
    "student.set_name(\"Seeta\")\n",
    "student.set_rollNumber(10249)\n",
    "print(student.get_name()) \n",
    "print(student.get_rollNumber())\n"
   ]
  },
  {
   "cell_type": "markdown",
   "id": "2017877f",
   "metadata": {},
   "source": [
    "# Challenge 4: Implement a Banking Account\n",
    "\n",
    "In this challenge, you will implement a banking account using the concepts of inheritance.\n",
    "Problem statement\n",
    "\n",
    "Implement the basic structure of a parent class, Account, and a child class, SavingsAccount.\n",
    "\n",
    "Task 1:\n",
    "Implement properties as instance variables, and set them to None or 0.\n",
    "\n",
    "Account has the following properties:\n",
    "\n",
    "    • title\n",
    "    • Balance\n",
    "SavingsAccount has the following properties:\n",
    "\n",
    "    • interestRate\n",
    "Task 2:\n",
    "\n",
    "Create an initializer for Account class. The order of parameters should be the following, where Ashish is the title, and 5000 is the account balance:\n",
    "\n",
    "Account(\"Ashish\", 5000)\n",
    "\n",
    "Task 3:\n",
    "\n",
    "Implement properties as instance variables, and set them to None or 0.\n",
    "\n",
    "Create an initializer for the SavingsAccount class using the initializer of the Account class in the order below:\n",
    "\n",
    "Account(\"Ashish\", 5000, 5)\n",
    "\n",
    "Here, Ashish is the title and 5000 is the balance and 5 is the interestRate"
   ]
  },
  {
   "cell_type": "code",
   "execution_count": 17,
   "id": "b0da1c5d",
   "metadata": {},
   "outputs": [
    {
     "name": "stdout",
     "output_type": "stream",
     "text": [
      "Account title: Ashish\n",
      "Account balance: 5000\n",
      "Account Title: Ashish\n",
      "Account Balance: 5000\n",
      "Account Interest rate: 5\n"
     ]
    }
   ],
   "source": [
    "class Account:\n",
    "    \n",
    "    def __init__(self, title=0, balance=0):\n",
    "        self.title = title\n",
    "        self.balance = balance\n",
    "\n",
    "class SavingsAccount(Account):\n",
    "    def __init__(self, title =0, balance=0, interestRate=0):\n",
    "        super().__init__(title, balance) # to call initializer we used super here.\n",
    "        self.interestRate = interestRate\n",
    "        \n",
    "account = Account(\"Ashish\", 5000)\n",
    "print(\"Account title:\", account.title) \n",
    "print(\"Account balance:\", account.balance) \n",
    "\n",
    "savings_account = SavingsAccount(\"Ashish\", 5000, 5)\n",
    "print(\"Account Title:\", savings_account.title) \n",
    "print(\"Account Balance:\", savings_account.balance) \n",
    "print(\"Account Interest rate:\", savings_account.interestRate) "
   ]
  },
  {
   "cell_type": "markdown",
   "id": "e22de55e",
   "metadata": {},
   "source": [
    "# Challenge 5: Handling a Bank Account\n",
    "\n",
    "In this challenge, you will define methods for handling a bank account using concepts of inheritance.\n",
    "\n",
    "Problem statement\n",
    "In this challenge, we will be extending the previous challenge and implementing methods in the parent class and its corresponding child class.\n",
    "The initializers for both classes have been defined for you.\n",
    "\n",
    "Task 1:\n",
    "In the Account class, implement the getBalance() method that returns balance.\n",
    "\n",
    "Task 2:\n",
    "In the Account class, implement the deposit(amount) method that adds amount to the balance.\n",
    "It does not return anything.\n",
    "Sample input\n",
    "balance = 2000\n",
    "deposit(500)\n",
    "getbalance()\n",
    "Sample output\n",
    "2500\n",
    "\n",
    "Task 3:\n",
    "In the Account class, implement the withdrawal(amount) method that subtracts the amount from the balance.\n",
    "It does not return anything.\n",
    "Sample input\n",
    "balance = 2000\n",
    "withdrawal(500)\n",
    "getbalance()\n",
    "Sample output\n",
    "1500\n",
    "\n",
    "Task 4:\n",
    "In the SavingsAccount class, implement an interestAmount() method that returns the interest amount of the current balance.\n",
    "Below is the formula for calculating the interest amount:\n",
    "Sample input\n",
    "balance = 2000\n",
    "interestRate = 5\n",
    "interestAmount()\n",
    "Sample output\n",
    "100"
   ]
  },
  {
   "cell_type": "code",
   "execution_count": 24,
   "id": "3218b8a1",
   "metadata": {},
   "outputs": [
    {
     "name": "stdout",
     "output_type": "stream",
     "text": [
      "Initial balance: 2000\n",
      "Balance after deposit: 2500\n",
      "Balance after withdrawal: 2000\n",
      "Interest amount: 100.0\n"
     ]
    }
   ],
   "source": [
    "class Account:\n",
    "    def __init__(self, title=None, balance=0):\n",
    "        self.title = title\n",
    "        self.balance = balance\n",
    "    \n",
    "    def withdrawal(self, amount):\n",
    "        self.balance -= amount\n",
    "        \n",
    "    def deposit(self, amount):\n",
    "        self.balance  += amount  \n",
    "        \n",
    "    def getBalance(self):\n",
    "        return self.balance\n",
    "    \n",
    "class SavingsAccount(Account):\n",
    "    def __init__(self, title=None, balance=0, interestRate=0):\n",
    "            super().__init__(title, balance)\n",
    "            self.interestRate = interestRate\n",
    "    \n",
    "    def interestAmount(self):\n",
    "        return (self.balance * self.interestRate)/100\n",
    "\n",
    "demo1 = SavingsAccount(\"Ashish\", 2000, 5) # initializing a SavingsAccount object\n",
    "\n",
    "print(\"Initial balance:\", demo1.getBalance()) \n",
    "demo1.deposit(500)\n",
    "print(\"Balance after deposit:\", demo1.getBalance()) \n",
    "demo1.withdrawal(500)\n",
    "print(\"Balance after withdrawal:\", demo1.getBalance()) \n",
    "print(\"Interest amount:\", demo1.interestAmount()) \n"
   ]
  },
  {
   "cell_type": "code",
   "execution_count": null,
   "id": "56caf4b8",
   "metadata": {},
   "outputs": [],
   "source": []
  }
 ],
 "metadata": {
  "kernelspec": {
   "display_name": "Python 3",
   "language": "python",
   "name": "python3"
  },
  "language_info": {
   "codemirror_mode": {
    "name": "ipython",
    "version": 3
   },
   "file_extension": ".py",
   "mimetype": "text/x-python",
   "name": "python",
   "nbconvert_exporter": "python",
   "pygments_lexer": "ipython3",
   "version": "3.8.8"
  }
 },
 "nbformat": 4,
 "nbformat_minor": 5
}
