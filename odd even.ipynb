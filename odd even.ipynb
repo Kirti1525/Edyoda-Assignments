{
 "cells": [
  {
   "cell_type": "code",
   "execution_count": 2,
   "id": "481f003d",
   "metadata": {},
   "outputs": [
    {
     "name": "stdout",
     "output_type": "stream",
     "text": [
      "Total even no in the list: 4\n",
      "Total odd no in the list: 5\n"
     ]
    }
   ],
   "source": [
    "n=(1,2,3,4,5,6,7,8,9)\n",
    "def check_even(n):\n",
    "    if n % 2 ==0:\n",
    "        return \"Even no\"\n",
    "    else:\n",
    "        return \"Odd no\"\n",
    "count_odd = 0\n",
    "count_even = 0\n",
    "for i in n:\n",
    "    output=check_even(i)\n",
    "    if output ==\"Even no\":\n",
    "        count_even+=1\n",
    "    else:\n",
    "        count_odd+=1\n",
    "print(\"Total even no in the list:\",count_even)\n",
    "print(\"Total odd no in the list:\",count_odd)"
   ]
  }
 ],
 "metadata": {
  "kernelspec": {
   "display_name": "Python 3",
   "language": "python",
   "name": "python3"
  },
  "language_info": {
   "codemirror_mode": {
    "name": "ipython",
    "version": 3
   },
   "file_extension": ".py",
   "mimetype": "text/x-python",
   "name": "python",
   "nbconvert_exporter": "python",
   "pygments_lexer": "ipython3",
   "version": "3.8.8"
  }
 },
 "nbformat": 4,
 "nbformat_minor": 5
}
