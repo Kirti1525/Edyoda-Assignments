{
 "cells": [
  {
   "cell_type": "code",
   "execution_count": null,
   "id": "7e9570ed",
   "metadata": {},
   "outputs": [],
   "source": [
    "1.  Implement Binary Search"
   ]
  },
  {
   "cell_type": "code",
   "execution_count": 7,
   "id": "d6f1e4b5",
   "metadata": {},
   "outputs": [
    {
     "name": "stdout",
     "output_type": "stream",
     "text": [
      "Element 9 found at index 4.\n"
     ]
    }
   ],
   "source": [
    "def binary_search(arr, target):\n",
    "    left, right = 0, len(arr) - 1\n",
    "\n",
    "    while left <= right:\n",
    "        mid = (left + right) // 2\n",
    "\n",
    "        if arr[mid] == target:\n",
    "            return mid\n",
    "        elif arr[mid] < target:\n",
    "            left = mid + 1\n",
    "        else:\n",
    "            right = mid - 1\n",
    "\n",
    "    return -1  # Element not found in the array\n",
    "\n",
    "# Example usage:\n",
    "arr = [1, 3, 5, 7, 9, 11, 13, 15, 17, 19]\n",
    "target = 9\n",
    "result = binary_search(arr, target)\n",
    "\n",
    "if result != -1:\n",
    "    print(f\"Element {target} found at index {result}.\")\n",
    "else:\n",
    "    print(f\"Element {target} not found in the array.\")\n"
   ]
  },
  {
   "cell_type": "code",
   "execution_count": null,
   "id": "4943887b",
   "metadata": {},
   "outputs": [],
   "source": [
    "2. Implement Merge Sort"
   ]
  },
  {
   "cell_type": "code",
   "execution_count": 12,
   "id": "15040c74",
   "metadata": {},
   "outputs": [
    {
     "name": "stdout",
     "output_type": "stream",
     "text": [
      "Sorted array: [3, 9, 10, 27, 38, 43, 82]\n"
     ]
    }
   ],
   "source": [
    "def merge_sort(arr):\n",
    "    if len(arr) > 1:\n",
    "        mid = len(arr) // 2\n",
    "        left_half = arr[:mid]\n",
    "        right_half = arr[mid:]\n",
    "\n",
    "        merge_sort(left_half)\n",
    "        merge_sort(right_half)\n",
    "\n",
    "        i = j = k = 0\n",
    "\n",
    "        while i < len(left_half) and j < len(right_half):\n",
    "            if left_half[i] < right_half[j]:\n",
    "                arr[k] = left_half[i]\n",
    "                i += 1\n",
    "            else:\n",
    "                arr[k] = right_half[j]\n",
    "                j += 1\n",
    "            k += 1\n",
    "\n",
    "        while i < len(left_half):\n",
    "            arr[k] = left_half[i]\n",
    "            i += 1\n",
    "            k += 1\n",
    "\n",
    "        while j < len(right_half):\n",
    "            arr[k] = right_half[j]\n",
    "            j += 1\n",
    "            k += 1\n",
    "\n",
    "# Example usage:\n",
    "arr = [38, 27, 43, 3, 9, 82, 10]\n",
    "merge_sort(arr)\n",
    "print(\"Sorted array:\", arr)\n"
   ]
  },
  {
   "cell_type": "code",
   "execution_count": null,
   "id": "f7ba0067",
   "metadata": {},
   "outputs": [],
   "source": [
    "3. Implement Quick Sort"
   ]
  },
  {
   "cell_type": "code",
   "execution_count": 18,
   "id": "2f57c6f6",
   "metadata": {},
   "outputs": [
    {
     "name": "stdout",
     "output_type": "stream",
     "text": [
      "Sorted array: [3, 9, 10, 27, 38, 43, 82]\n"
     ]
    }
   ],
   "source": [
    "def quick_sort(arr):\n",
    "    if len(arr) <= 1:\n",
    "        return arr\n",
    "\n",
    "    pivot = arr[0]\n",
    "    less_than_pivot = [x for x in arr[1:] if x <= pivot]\n",
    "    greater_than_pivot = [x for x in arr[1:] if x > pivot]\n",
    "\n",
    "    return quick_sort(less_than_pivot) + [pivot] + quick_sort(greater_than_pivot)\n",
    "\n",
    "# Example usage:\n",
    "arr = [38, 27, 43, 3, 9, 82, 10]\n",
    "sorted_arr = quick_sort(arr)\n",
    "print(\"Sorted array:\", sorted_arr)\n"
   ]
  },
  {
   "cell_type": "code",
   "execution_count": null,
   "id": "8e9c42ed",
   "metadata": {},
   "outputs": [],
   "source": [
    "4. Implement Insertion Sort"
   ]
  },
  {
   "cell_type": "code",
   "execution_count": 25,
   "id": "93750a20",
   "metadata": {},
   "outputs": [
    {
     "name": "stdout",
     "output_type": "stream",
     "text": [
      "Sorted array: [3, 9, 10, 27, 38, 43, 82]\n"
     ]
    }
   ],
   "source": [
    "def insertion_sort(arr):\n",
    "    for i in range(1, len(arr)):\n",
    "        key = arr[i]  # Current element to be inserted into the sorted portion\n",
    "        j = i - 1  # Index of the last element in the sorted portion\n",
    "\n",
    "        # Move elements of the sorted portion greater than the key one position ahead of their current position\n",
    "        while j >= 0 and key < arr[j]:\n",
    "            arr[j + 1] = arr[j]\n",
    "            j -= 1\n",
    "\n",
    "        # Insert the key into its correct position in the sorted portion\n",
    "        arr[j + 1] = key\n",
    "\n",
    "# Example usage:\n",
    "arr = [38, 27, 43, 3, 9, 82, 10]\n",
    "insertion_sort(arr)\n",
    "print(\"Sorted array:\", arr)\n"
   ]
  },
  {
   "cell_type": "code",
   "execution_count": null,
   "id": "b6c0badd",
   "metadata": {},
   "outputs": [],
   "source": [
    "5. Write a program to sort list of strings (similar to that of dictionary)"
   ]
  },
  {
   "cell_type": "code",
   "execution_count": 29,
   "id": "447ca6b4",
   "metadata": {},
   "outputs": [
    {
     "name": "stdout",
     "output_type": "stream",
     "text": [
      "apple\n",
      "banana\n",
      "cherry\n",
      "date\n",
      "fig\n",
      "pear\n",
      "pear\n",
      "fig\n",
      "date\n",
      "cherry\n",
      "banana\n",
      "apple\n"
     ]
    }
   ],
   "source": [
    "# List of strings to be sorted\n",
    "string_list = [\"apple\", \"banana\", \"cherry\", \"date\", \"pear\", \"fig\"]\n",
    "\n",
    "# Sort the list as if it were dictionary keys\n",
    "sorted_list = sorted(string_list)\n",
    "\n",
    "# Print the sorted list\n",
    "for item in sorted_list:\n",
    "    print(item)\n",
    "\n",
    "    \n",
    "# Sort the list in descending order\n",
    "sorted_list_descending = sorted(string_list, reverse=True)\n",
    "\n",
    "# Print the sorted list in descending order\n",
    "for item in sorted_list_descending:\n",
    "    print(item)"
   ]
  },
  {
   "cell_type": "code",
   "execution_count": null,
   "id": "18566ccc",
   "metadata": {},
   "outputs": [],
   "source": []
  }
 ],
 "metadata": {
  "kernelspec": {
   "display_name": "Python 3 (ipykernel)",
   "language": "python",
   "name": "python3"
  },
  "language_info": {
   "codemirror_mode": {
    "name": "ipython",
    "version": 3
   },
   "file_extension": ".py",
   "mimetype": "text/x-python",
   "name": "python",
   "nbconvert_exporter": "python",
   "pygments_lexer": "ipython3",
   "version": "3.10.9"
  }
 },
 "nbformat": 4,
 "nbformat_minor": 5
}
