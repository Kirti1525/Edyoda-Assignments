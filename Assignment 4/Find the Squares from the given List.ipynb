{
 "cells": [
  {
   "cell_type": "code",
   "execution_count": 3,
   "id": "30c4453a",
   "metadata": {},
   "outputs": [
    {
     "name": "stdout",
     "output_type": "stream",
     "text": [
      "Original numbers: [5, 9, 4, 32, 58, 45, 1, 2, 777]\n",
      "Squared numbers: [25, 81, 16, 1024, 3364, 2025, 1, 4, 603729]\n"
     ]
    }
   ],
   "source": [
    "# using function:\n",
    "def square_number(num):\n",
    "    return num ** 2\n",
    "numbers = [5,9,4,32,58,45,1,2,777]\n",
    "squared_numbers = list(map(square_number, numbers))\n",
    "print(\"Original numbers:\", numbers)\n",
    "print(\"Squared numbers:\", squared_numbers)\n"
   ]
  },
  {
   "cell_type": "code",
   "execution_count": 6,
   "id": "fdee5887",
   "metadata": {},
   "outputs": [
    {
     "name": "stdout",
     "output_type": "stream",
     "text": [
      "Enter a list of numbers (space-separated): 5 12 456 85 69 2 0 1\n",
      "Original numbers: [5, 12, 456, 85, 69, 2, 0, 1]\n",
      "Squared numbers: [25, 144, 207936, 7225, 4761, 4, 0, 1]\n"
     ]
    }
   ],
   "source": [
    "# using function by taking input from user:\n",
    "def square_number(num):\n",
    "    return num ** 2\n",
    "numbers = input(\"Enter a list of numbers (enter elements by giving space): \").split()\n",
    "numbers = list(map(int, numbers))\n",
    "squared_numbers = list(map(square_number, numbers))\n",
    "print(\"Original numbers:\", numbers)\n",
    "print(\"Squared numbers:\", squared_numbers)\n"
   ]
  },
  {
   "cell_type": "code",
   "execution_count": 12,
   "id": "f0f2be7a",
   "metadata": {},
   "outputs": [
    {
     "name": "stdout",
     "output_type": "stream",
     "text": [
      "Enter a list of numbers(enter elements by giving space):5 6 2 1 9 4 54 65 \n",
      "Original list of integers:\n",
      "[5, 6, 2, 1, 9, 4, 54, 65]\n",
      "\n",
      "Square every number of the said list:\n",
      "[25, 36, 4, 1, 81, 16, 2916, 4225]\n"
     ]
    }
   ],
   "source": [
    "# without using function:\n",
    "nums = input(\"Enter a list of numbers(enter elements by giving space):\").split()\n",
    "nums = list(map(int,nums))\n",
    "print(\"Original list of integers:\")\n",
    "print(nums)\n",
    "print(\"\\nSquare every number of the said list:\")\n",
    "square_nums = list(map(lambda x: x ** 2, nums))\n",
    "print(square_nums)\n",
    "\n"
   ]
  }
 ],
 "metadata": {
  "kernelspec": {
   "display_name": "Python 3",
   "language": "python",
   "name": "python3"
  },
  "language_info": {
   "codemirror_mode": {
    "name": "ipython",
    "version": 3
   },
   "file_extension": ".py",
   "mimetype": "text/x-python",
   "name": "python",
   "nbconvert_exporter": "python",
   "pygments_lexer": "ipython3",
   "version": "3.8.8"
  }
 },
 "nbformat": 4,
 "nbformat_minor": 5
}
