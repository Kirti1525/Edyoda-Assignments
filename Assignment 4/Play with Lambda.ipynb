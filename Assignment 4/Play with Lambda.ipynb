{
 "cells": [
  {
   "cell_type": "code",
   "execution_count": 2,
   "id": "68fe4ca5",
   "metadata": {},
   "outputs": [
    {
     "name": "stdout",
     "output_type": "stream",
     "text": [
      "The result is: 35\n"
     ]
    }
   ],
   "source": [
    "# Without taking number from user:\n",
    "add = lambda x: x + 25\n",
    "number = 10\n",
    "result = add(number)\n",
    "print(f\"The result is: {result}\")\n"
   ]
  },
  {
   "cell_type": "code",
   "execution_count": 8,
   "id": "99fa8051",
   "metadata": {},
   "outputs": [
    {
     "name": "stdout",
     "output_type": "stream",
     "text": [
      "The result is: 35\n"
     ]
    }
   ],
   "source": [
    "r = lambda a : a + 25\n",
    "print(\"The result is:\",r(10))\n"
   ]
  },
  {
   "cell_type": "code",
   "execution_count": 9,
   "id": "1ae2ae0d",
   "metadata": {},
   "outputs": [
    {
     "name": "stdout",
     "output_type": "stream",
     "text": [
      "Enter a number: 10\n",
      "The result is: 35.0\n"
     ]
    }
   ],
   "source": [
    "# By taking number from user:\n",
    "number = float(input(\"Enter a number: \"))\n",
    "\n",
    "add = lambda x: x + 25\n",
    "\n",
    "result = add(number)\n",
    "print(f\"The result is: {result}\")\n"
   ]
  }
 ],
 "metadata": {
  "kernelspec": {
   "display_name": "Python 3",
   "language": "python",
   "name": "python3"
  },
  "language_info": {
   "codemirror_mode": {
    "name": "ipython",
    "version": 3
   },
   "file_extension": ".py",
   "mimetype": "text/x-python",
   "name": "python",
   "nbconvert_exporter": "python",
   "pygments_lexer": "ipython3",
   "version": "3.8.8"
  }
 },
 "nbformat": 4,
 "nbformat_minor": 5
}
