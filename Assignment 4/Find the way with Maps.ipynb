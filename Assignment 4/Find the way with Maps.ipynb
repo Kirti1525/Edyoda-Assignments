{
 "cells": [
  {
   "cell_type": "code",
   "execution_count": 2,
   "id": "32c6f0a1",
   "metadata": {},
   "outputs": [
    {
     "name": "stdout",
     "output_type": "stream",
     "text": [
      "Original numbers: [1, 2, 3, 4, 5, 6]\n",
      "Tripled numbers: [3, 6, 9, 12, 15, 18]\n"
     ]
    }
   ],
   "source": [
    "# using function:\n",
    "def triple_number(num):\n",
    "    return num * 3\n",
    "numbers = [1, 2, 3, 4, 5,6]\n",
    "tripled_numbers = list(map(triple_number, numbers))\n",
    "print(\"Original numbers:\", numbers)\n",
    "print(\"Tripled numbers:\", tripled_numbers)\n"
   ]
  },
  {
   "cell_type": "code",
   "execution_count": 5,
   "id": "62ef0cac",
   "metadata": {},
   "outputs": [
    {
     "name": "stdout",
     "output_type": "stream",
     "text": [
      "Original list:  (9, 7, 5, 4, 6, 2, 3, 1)\n",
      "\n",
      "Triple of said list numbers:\n",
      "[27, 21, 15, 12, 18, 6, 9, 3]\n"
     ]
    }
   ],
   "source": [
    "# without using function:\n",
    "num = (9,7,5,4,6,2,3,1) \n",
    "print(\"Original list: \", num)\n",
    "result = map(lambda x: x + x + x, num) \n",
    "print(\"\\nTriple of said list numbers:\")\n",
    "print(list(result))"
   ]
  },
  {
   "cell_type": "code",
   "execution_count": 6,
   "id": "b21136df",
   "metadata": {},
   "outputs": [
    {
     "name": "stdout",
     "output_type": "stream",
     "text": [
      "Enter a list of integers (space-separated): 5 6 2 3 8 9 1 4\n",
      "Original numbers: [5, 6, 2, 3, 8, 9, 1, 4]\n",
      "Tripled numbers: [15, 18, 6, 9, 24, 27, 3, 12]\n"
     ]
    }
   ],
   "source": [
    "# By using function and taking input from user:\n",
    "def triple_number(num):\n",
    "    return num * 3\n",
    "numbers = input(\"Enter a list of integers (space-separated): \").split()\n",
    "numbers = list(map(int, numbers))\n",
    "tripled_numbers = list(map(triple_number, numbers))\n",
    "print(\"Original numbers:\", numbers)\n",
    "print(\"Tripled numbers:\", tripled_numbers)\n"
   ]
  }
 ],
 "metadata": {
  "kernelspec": {
   "display_name": "Python 3",
   "language": "python",
   "name": "python3"
  },
  "language_info": {
   "codemirror_mode": {
    "name": "ipython",
    "version": 3
   },
   "file_extension": ".py",
   "mimetype": "text/x-python",
   "name": "python",
   "nbconvert_exporter": "python",
   "pygments_lexer": "ipython3",
   "version": "3.8.8"
  }
 },
 "nbformat": 4,
 "nbformat_minor": 5
}
