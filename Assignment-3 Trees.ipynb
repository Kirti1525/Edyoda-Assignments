{
 "cells": [
  {
   "cell_type": "code",
   "execution_count": null,
   "id": "fb65a574",
   "metadata": {},
   "outputs": [],
   "source": [
    "1.Implement Binary tree"
   ]
  },
  {
   "cell_type": "code",
   "execution_count": 8,
   "id": "d1ad8a0b",
   "metadata": {},
   "outputs": [
    {
     "name": "stdout",
     "output_type": "stream",
     "text": [
      "Inorder traversal: [3, 5, 8, 10, 12, 15, 18]\n",
      "Preorder traversal: [10, 5, 3, 8, 15, 12, 18]\n",
      "Postorder traversal: [3, 8, 5, 12, 18, 15, 10]\n",
      "Search for value 8: True\n",
      "Search for value 20: False\n"
     ]
    }
   ],
   "source": [
    "class TreeNode:\n",
    "    def __init__(self, value):\n",
    "        self.value = value\n",
    "        self.left = None\n",
    "        self.right = None\n",
    "\n",
    "class BinaryTree:\n",
    "    def __init__(self, root_value):\n",
    "        self.root = TreeNode(root_value)\n",
    "\n",
    "    def insert(self, value):\n",
    "        self._insert_recursive(self.root, value)\n",
    "\n",
    "    def _insert_recursive(self, node, value):\n",
    "        if value < node.value:\n",
    "            if node.left is None:\n",
    "                node.left = TreeNode(value)\n",
    "            else:\n",
    "                self._insert_recursive(node.left, value)\n",
    "        elif value > node.value:\n",
    "            if node.right is None:\n",
    "                node.right = TreeNode(value)\n",
    "            else:\n",
    "                self._insert_recursive(node.right, value)\n",
    "\n",
    "    def search(self, value):\n",
    "        return self._search_recursive(self.root, value)\n",
    "\n",
    "    def _search_recursive(self, node, value):\n",
    "        if node is None:\n",
    "            return False\n",
    "        if node.value == value:\n",
    "            return True\n",
    "        if value < node.value:\n",
    "            return self._search_recursive(node.left, value)\n",
    "        else:\n",
    "            return self._search_recursive(node.right, value)\n",
    "\n",
    "    def inorder_traversal(self):\n",
    "        return self._inorder_recursive(self.root)\n",
    "\n",
    "    def _inorder_recursive(self, node):\n",
    "        if node is None:\n",
    "            return []\n",
    "        return self._inorder_recursive(node.left) + [node.value] + self._inorder_recursive(node.right)\n",
    "\n",
    "    def preorder_traversal(self):\n",
    "        return self._preorder_recursive(self.root)\n",
    "\n",
    "    def _preorder_recursive(self, node):\n",
    "        if node is None:\n",
    "            return []\n",
    "        return [node.value] + self._preorder_recursive(node.left) + self._preorder_recursive(node.right)\n",
    "\n",
    "    def postorder_traversal(self):\n",
    "        return self._postorder_recursive(self.root)\n",
    "\n",
    "    def _postorder_recursive(self, node):\n",
    "        if node is None:\n",
    "            return []\n",
    "        return self._postorder_recursive(node.left) + self._postorder_recursive(node.right) + [node.value]\n",
    "\n",
    "# Example usage:\n",
    "tree = BinaryTree(10)\n",
    "tree.insert(5)\n",
    "tree.insert(15)\n",
    "tree.insert(3)\n",
    "tree.insert(8)\n",
    "tree.insert(12)\n",
    "tree.insert(18)\n",
    "\n",
    "print(\"Inorder traversal:\", tree.inorder_traversal())\n",
    "print(\"Preorder traversal:\", tree.preorder_traversal())\n",
    "print(\"Postorder traversal:\", tree.postorder_traversal())\n",
    "print(\"Search for value 8:\", tree.search(8))\n",
    "print(\"Search for value 20:\", tree.search(20))\n"
   ]
  },
  {
   "cell_type": "code",
   "execution_count": null,
   "id": "d1f170c6",
   "metadata": {},
   "outputs": [],
   "source": [
    "2.Find height of a given tree"
   ]
  },
  {
   "cell_type": "code",
   "execution_count": 10,
   "id": "fa5d350b",
   "metadata": {},
   "outputs": [
    {
     "name": "stdout",
     "output_type": "stream",
     "text": [
      "Height of the tree is: 3\n"
     ]
    }
   ],
   "source": [
    "class TreeNode:\n",
    "    def __init__(self, value):\n",
    "        self.value = value\n",
    "        self.left = None\n",
    "        self.right = None\n",
    "\n",
    "def tree_height(node):\n",
    "    if node is None:\n",
    "        return 0\n",
    "    else:\n",
    "        left_height = tree_height(node.left)\n",
    "        right_height = tree_height(node.right)\n",
    "        return max(left_height, right_height) + 1\n",
    "\n",
    "# Example usage:\n",
    "root = TreeNode(1)\n",
    "root.left = TreeNode(2)\n",
    "root.right = TreeNode(3)\n",
    "root.left.left = TreeNode(4)\n",
    "root.left.right = TreeNode(5)\n",
    "\n",
    "height = tree_height(root)\n",
    "print(\"Height of the tree is:\", height)\n"
   ]
  },
  {
   "cell_type": "code",
   "execution_count": null,
   "id": "fc133f75",
   "metadata": {},
   "outputs": [],
   "source": [
    "3.Perform Pre-order, Post-order, In-order traversal"
   ]
  },
  {
   "cell_type": "code",
   "execution_count": null,
   "id": "fba9d5d5",
   "metadata": {},
   "outputs": [],
   "source": [
    "    1\n",
    "   / \\\n",
    "  2   3\n",
    " / \\\n",
    "4   5\n"
   ]
  },
  {
   "cell_type": "code",
   "execution_count": 13,
   "id": "ce71a092",
   "metadata": {},
   "outputs": [
    {
     "name": "stdout",
     "output_type": "stream",
     "text": [
      "Pre-order traversal:\n",
      "1 2 4 5 3 "
     ]
    }
   ],
   "source": [
    "#Pre-order traversal: Root, Left, Right\n",
    "\n",
    "\n",
    "def preorder_traversal(node):\n",
    "    if node is not None:\n",
    "        print(node.value, end=\" \")  # Visit the root\n",
    "        preorder_traversal(node.left)  # Traverse the left subtree\n",
    "        preorder_traversal(node.right)  # Traverse the right subtree\n",
    "\n",
    "# Example usage:\n",
    "root = TreeNode(1)\n",
    "root.left = TreeNode(2)\n",
    "root.right = TreeNode(3)\n",
    "root.left.left = TreeNode(4)\n",
    "root.left.right = TreeNode(5)\n",
    "\n",
    "print(\"Pre-order traversal:\")\n",
    "preorder_traversal(root)\n"
   ]
  },
  {
   "cell_type": "code",
   "execution_count": 14,
   "id": "dfda715e",
   "metadata": {},
   "outputs": [
    {
     "name": "stdout",
     "output_type": "stream",
     "text": [
      "\n",
      "In-order traversal:\n",
      "4 2 5 1 3 "
     ]
    }
   ],
   "source": [
    "#In-order traversal: Left, Root, Right\n",
    "\n",
    "def inorder_traversal(node):\n",
    "    if node is not None:\n",
    "        inorder_traversal(node.left)  # Traverse the left subtree\n",
    "        print(node.value, end=\" \")  # Visit the root\n",
    "        inorder_traversal(node.right)  # Traverse the right subtree\n",
    "\n",
    "# Example usage:\n",
    "print(\"\\nIn-order traversal:\")\n",
    "inorder_traversal(root)\n",
    "\n"
   ]
  },
  {
   "cell_type": "code",
   "execution_count": 15,
   "id": "5abb7328",
   "metadata": {},
   "outputs": [
    {
     "name": "stdout",
     "output_type": "stream",
     "text": [
      "\n",
      "Post-order traversal:\n",
      "4 5 2 3 1 "
     ]
    }
   ],
   "source": [
    "#Post-order traversal: Left, Right, Root\n",
    "\n",
    "def postorder_traversal(node):\n",
    "    if node is not None:\n",
    "        postorder_traversal(node.left)  # Traverse the left subtree\n",
    "        postorder_traversal(node.right)  # Traverse the right subtree\n",
    "        print(node.value, end=\" \")  # Visit the root\n",
    "\n",
    "# Example usage:\n",
    "print(\"\\nPost-order traversal:\")\n",
    "postorder_traversal(root)\n"
   ]
  },
  {
   "cell_type": "code",
   "execution_count": null,
   "id": "09c4efca",
   "metadata": {},
   "outputs": [],
   "source": [
    "4. Function to print all the leaves in a given binary tree"
   ]
  },
  {
   "cell_type": "code",
   "execution_count": 16,
   "id": "b0df99ec",
   "metadata": {},
   "outputs": [
    {
     "name": "stdout",
     "output_type": "stream",
     "text": [
      "Leaf nodes in the binary tree:\n",
      "4 5 6 7 "
     ]
    }
   ],
   "source": [
    "class TreeNode:\n",
    "    def __init__(self, value):\n",
    "        self.value = value\n",
    "        self.left = None\n",
    "        self.right = None\n",
    "\n",
    "def print_leaf_nodes(node):\n",
    "    if node is not None:\n",
    "        if node.left is None and node.right is None:\n",
    "            print(node.value, end=\" \")  # Leaf node, so print its value\n",
    "        print_leaf_nodes(node.left)  # Recursively check the left subtree\n",
    "        print_leaf_nodes(node.right)  # Recursively check the right subtree\n",
    "\n",
    "# Example usage:\n",
    "root = TreeNode(1)\n",
    "root.left = TreeNode(2)\n",
    "root.right = TreeNode(3)\n",
    "root.left.left = TreeNode(4)\n",
    "root.left.right = TreeNode(5)\n",
    "root.right.left = TreeNode(6)\n",
    "root.right.right = TreeNode(7)\n",
    "\n",
    "print(\"Leaf nodes in the binary tree:\")\n",
    "print_leaf_nodes(root)\n"
   ]
  },
  {
   "cell_type": "code",
   "execution_count": null,
   "id": "930d39dc",
   "metadata": {},
   "outputs": [],
   "source": [
    "5.Implement BFS (Breath First Search) and DFS (Depth First Search)"
   ]
  },
  {
   "cell_type": "code",
   "execution_count": 17,
   "id": "57c795a3",
   "metadata": {},
   "outputs": [
    {
     "name": "stdout",
     "output_type": "stream",
     "text": [
      "Breadth-First Search (BFS):\n",
      "1 2 3 4 5 6 7 \n",
      "\n",
      "Pre-order Depth-First Search (DFS):\n",
      "1 2 4 5 3 6 7 \n",
      "\n",
      "In-order Depth-First Search (DFS):\n",
      "4 2 5 1 6 3 7 \n",
      "\n",
      "Post-order Depth-First Search (DFS):\n",
      "4 5 2 6 7 3 1 "
     ]
    }
   ],
   "source": [
    "class TreeNode:\n",
    "    def __init__(self, value):\n",
    "        self.value = value\n",
    "        self.left = None\n",
    "        self.right = None\n",
    "\n",
    "# Create a sample binary tree\n",
    "root = TreeNode(1)\n",
    "root.left = TreeNode(2)\n",
    "root.right = TreeNode(3)\n",
    "root.left.left = TreeNode(4)\n",
    "root.left.right = TreeNode(5)\n",
    "root.right.left = TreeNode(6)\n",
    "root.right.right = TreeNode(7)\n",
    "\n",
    "from collections import deque\n",
    "\n",
    "def bfs(root):\n",
    "    if root is None:\n",
    "        return\n",
    "\n",
    "    queue = deque()\n",
    "    queue.append(root)\n",
    "\n",
    "    while queue:\n",
    "        node = queue.popleft()\n",
    "        print(node.value, end=\" \")\n",
    "\n",
    "        if node.left:\n",
    "            queue.append(node.left)\n",
    "        if node.right:\n",
    "            queue.append(node.right)\n",
    "\n",
    "# Example usage for BFS\n",
    "print(\"Breadth-First Search (BFS):\")\n",
    "bfs(root)\n",
    "\n",
    "def preorder_dfs(node):\n",
    "    if node is None:\n",
    "        return\n",
    "    print(node.value, end=\" \")\n",
    "    preorder_dfs(node.left)\n",
    "    preorder_dfs(node.right)\n",
    "\n",
    "# Example usage for Pre-order DFS\n",
    "print(\"\\n\\nPre-order Depth-First Search (DFS):\")\n",
    "preorder_dfs(root)\n",
    "\n",
    "\n",
    "def inorder_dfs(node):\n",
    "    if node is None:\n",
    "        return\n",
    "    inorder_dfs(node.left)\n",
    "    print(node.value, end=\" \")\n",
    "    inorder_dfs(node.right)\n",
    "\n",
    "# Example usage for In-order DFS\n",
    "print(\"\\n\\nIn-order Depth-First Search (DFS):\")\n",
    "inorder_dfs(root)\n",
    "\n",
    "def postorder_dfs(node):\n",
    "    if node is None:\n",
    "        return\n",
    "    postorder_dfs(node.left)\n",
    "    postorder_dfs(node.right)\n",
    "    print(node.value, end=\" \")\n",
    "\n",
    "# Example usage for Post-order DFS\n",
    "print(\"\\n\\nPost-order Depth-First Search (DFS):\")\n",
    "postorder_dfs(root)\n"
   ]
  },
  {
   "cell_type": "code",
   "execution_count": null,
   "id": "d1afc707",
   "metadata": {},
   "outputs": [],
   "source": [
    "6. Find sum of all left leaves in a given Binary Tree"
   ]
  },
  {
   "cell_type": "code",
   "execution_count": 23,
   "id": "307ae899",
   "metadata": {},
   "outputs": [
    {
     "name": "stdout",
     "output_type": "stream",
     "text": [
      "Sum of left leaves: 24\n"
     ]
    }
   ],
   "source": [
    "class TreeNode:\n",
    "    def __init__(self, val=0, left=None, right=None):\n",
    "        self.val = val\n",
    "        self.left = left\n",
    "        self.right = right\n",
    "\n",
    "def sumOfLeftLeaves(root):\n",
    "    if not root:\n",
    "        return 0\n",
    "\n",
    "    # Check if the left child is a leaf node\n",
    "    if root.left and not root.left.left and not root.left.right:\n",
    "        left_leaf_value = root.left.val\n",
    "    else:\n",
    "        left_leaf_value = 0\n",
    "\n",
    "    # Recursively calculate the sum of left leaves in both subtrees\n",
    "    return left_leaf_value + sumOfLeftLeaves(root.left) + sumOfLeftLeaves(root.right)\n",
    "\n",
    "\n",
    "# Construct a sample binary tree\n",
    "#        3\n",
    "#       / \\\n",
    "#      9  20\n",
    "#         / \\\n",
    "#        15  7\n",
    "\n",
    "root = TreeNode(3)\n",
    "root.left = TreeNode(9)\n",
    "root.right = TreeNode(20)\n",
    "root.right.left = TreeNode(15)\n",
    "root.right.right = TreeNode(7)\n",
    "\n",
    "# Calculate the sum of left leaves\n",
    "result = sumOfLeftLeaves(root)\n",
    "print(\"Sum of left leaves:\", result)  # Output should be 24 (9 + 15)\n",
    "\n"
   ]
  },
  {
   "cell_type": "code",
   "execution_count": null,
   "id": "df0a5fff",
   "metadata": {},
   "outputs": [],
   "source": [
    "7.Find sum of all nodes of the given perfect binary tree"
   ]
  },
  {
   "cell_type": "code",
   "execution_count": 24,
   "id": "2202fe2e",
   "metadata": {},
   "outputs": [
    {
     "name": "stdout",
     "output_type": "stream",
     "text": [
      "Sum of all nodes in the perfect binary tree: 28\n"
     ]
    }
   ],
   "source": [
    "\n",
    "def sumOfPerfectBinaryTree(h):\n",
    "    total_nodes = (2 ** h) - 1\n",
    "    return total_nodes * (total_nodes + 1) // 2\n",
    "\n",
    "# Example usage:\n",
    "height = 3  # Change this to the height of your perfect binary tree\n",
    "result = sumOfPerfectBinaryTree(height)\n",
    "print(\"Sum of all nodes in the perfect binary tree:\", result)\n"
   ]
  },
  {
   "cell_type": "code",
   "execution_count": null,
   "id": "60b1f9d4",
   "metadata": {},
   "outputs": [],
   "source": [
    "8. Count subtress that sum up to a given value x in a binary tree"
   ]
  },
  {
   "cell_type": "code",
   "execution_count": 27,
   "id": "169ce8dd",
   "metadata": {},
   "outputs": [
    {
     "name": "stdout",
     "output_type": "stream",
     "text": [
      "Number of subtrees with a sum of 8 is: 1\n"
     ]
    }
   ],
   "source": [
    "class TreeNode:\n",
    "    def __init__(self, val=0, left=None, right=None):\n",
    "        self.val = val\n",
    "        self.left = left\n",
    "        self.right = right\n",
    "\n",
    "class Result:\n",
    "    def __init__(self):\n",
    "        self.count = 0\n",
    "\n",
    "def countSubtreesWithSum(root, x):\n",
    "    result = Result()\n",
    "    countSubtreesWithSumHelper(root, x, result)\n",
    "    return result.count\n",
    "\n",
    "def countSubtreesWithSumHelper(node, x, result):\n",
    "    if node is None:\n",
    "        return 0\n",
    "\n",
    "    # Recursively calculate the sum of left and right subtrees\n",
    "    left_sum = countSubtreesWithSumHelper(node.left, x, result)\n",
    "    right_sum = countSubtreesWithSumHelper(node.right, x, result)\n",
    "\n",
    "    # Calculate the sum of the current subtree\n",
    "    current_sum = left_sum + right_sum + node.val\n",
    "\n",
    "    # If the current subtree's sum equals x, increment the count\n",
    "    if current_sum == x:\n",
    "        result.count += 1\n",
    "\n",
    "    return current_sum\n",
    "\n",
    "# Example usage:\n",
    "# Construct a sample binary tree\n",
    "#       10\n",
    "#      /  \\\n",
    "#     5   -3\n",
    "#    / \\    \\\n",
    "#   3   2   11\n",
    "root = TreeNode(10)\n",
    "root.left = TreeNode(5)\n",
    "root.right = TreeNode(-3)\n",
    "root.left.left = TreeNode(3)\n",
    "root.left.right = TreeNode(2)\n",
    "root.right.right = TreeNode(11)\n",
    "\n",
    "x = 8\n",
    "result = countSubtreesWithSum(root, x)\n",
    "print(\"Number of subtrees with a sum of\", x, \"is:\", result)  # Output should be 3\n"
   ]
  },
  {
   "cell_type": "code",
   "execution_count": null,
   "id": "1ef2f1ca",
   "metadata": {},
   "outputs": [],
   "source": [
    "9.Find maximum level sum in Binary Tree"
   ]
  },
  {
   "cell_type": "code",
   "execution_count": 30,
   "id": "d0209026",
   "metadata": {},
   "outputs": [
    {
     "name": "stdout",
     "output_type": "stream",
     "text": [
      "Maximum level sum is at level: 2\n"
     ]
    }
   ],
   "source": [
    "class TreeNode:\n",
    "    def __init__(self, val=0, left=None, right=None):\n",
    "        self.val = val\n",
    "        self.left = left\n",
    "        self.right = right\n",
    "\n",
    "def maxLevelSum(root):\n",
    "    if not root:\n",
    "        return 0\n",
    "\n",
    "    max_sum = float('-inf')\n",
    "    max_level = 0\n",
    "\n",
    "    # Initialize a queue for level order traversal\n",
    "    queue = [root]\n",
    "\n",
    "    level = 1\n",
    "    while queue:\n",
    "        level_sum = 0\n",
    "        level_size = len(queue)\n",
    "\n",
    "        for i in range(level_size):\n",
    "            node = queue.pop(0)\n",
    "            level_sum += node.val\n",
    "\n",
    "            if node.left:\n",
    "                queue.append(node.left)\n",
    "            if node.right:\n",
    "                queue.append(node.right)\n",
    "\n",
    "        if level_sum > max_sum:\n",
    "            max_sum = level_sum\n",
    "            max_level = level\n",
    "\n",
    "        level += 1\n",
    "\n",
    "    return max_level\n",
    "\n",
    "# Example usage:\n",
    "# Construct a sample binary tree\n",
    "#       1\n",
    "#      / \\\n",
    "#     7   0\n",
    "#    / \\\n",
    "#   7   -8\n",
    "root = TreeNode(1)\n",
    "root.left = TreeNode(7)\n",
    "root.right = TreeNode(0)\n",
    "root.left.left = TreeNode(7)\n",
    "root.left.right = TreeNode(-8)\n",
    "\n",
    "result = maxLevelSum(root)\n",
    "print(\"Maximum level sum is at level:\", result)  # Output should be 2\n"
   ]
  },
  {
   "cell_type": "code",
   "execution_count": null,
   "id": "a425df68",
   "metadata": {},
   "outputs": [],
   "source": [
    "10. Print the nodes at odd levels of a tree"
   ]
  },
  {
   "cell_type": "code",
   "execution_count": 36,
   "id": "e9811595",
   "metadata": {},
   "outputs": [
    {
     "name": "stdout",
     "output_type": "stream",
     "text": [
      "Nodes at odd levels:\n",
      "1\n",
      "4\n",
      "5\n",
      "6\n"
     ]
    }
   ],
   "source": [
    "class TreeNode:\n",
    "    def __init__(self, val=0, left=None, right=None):\n",
    "        self.val = val\n",
    "        self.left = left\n",
    "        self.right = right\n",
    "\n",
    "def printNodesAtOddLevels(root):\n",
    "    printNodesAtOddLevelsHelper(root, 1)\n",
    "\n",
    "def printNodesAtOddLevelsHelper(node, level):\n",
    "    if node is None:\n",
    "        return\n",
    "\n",
    "    # If the current level is odd, print the node's value\n",
    "    if level % 2 == 1:\n",
    "        print(node.val)\n",
    "\n",
    "    # Recursively visit the left and right subtrees with the next level\n",
    "    printNodesAtOddLevelsHelper(node.left, level + 1)\n",
    "    printNodesAtOddLevelsHelper(node.right, level + 1)\n",
    "\n",
    "# Example usage:\n",
    "# Construct a sample binary tree\n",
    "#        1\n",
    "#       / \\\n",
    "#      2   3\n",
    "#     /   / \\\n",
    "#    4   5   6\n",
    "#           /\n",
    "#          7\n",
    "root = TreeNode(1)\n",
    "root.left = TreeNode(2)\n",
    "root.right = TreeNode(3)\n",
    "root.left.left = TreeNode(4)\n",
    "root.right.left = TreeNode(5)\n",
    "root.right.right = TreeNode(6)\n",
    "root.right.right.left = TreeNode(7)\n",
    "\n",
    "print(\"Nodes at odd levels:\")\n",
    "printNodesAtOddLevels(root)\n"
   ]
  },
  {
   "cell_type": "code",
   "execution_count": null,
   "id": "47f56524",
   "metadata": {},
   "outputs": [],
   "source": []
  }
 ],
 "metadata": {
  "kernelspec": {
   "display_name": "Python 3 (ipykernel)",
   "language": "python",
   "name": "python3"
  },
  "language_info": {
   "codemirror_mode": {
    "name": "ipython",
    "version": 3
   },
   "file_extension": ".py",
   "mimetype": "text/x-python",
   "name": "python",
   "nbconvert_exporter": "python",
   "pygments_lexer": "ipython3",
   "version": "3.10.9"
  }
 },
 "nbformat": 4,
 "nbformat_minor": 5
}
