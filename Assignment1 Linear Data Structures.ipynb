{
 "cells": [
  {
   "cell_type": "code",
   "execution_count": null,
   "id": "76e8e95e",
   "metadata": {},
   "outputs": [],
   "source": [
    "1.Delete the elements in an linked list whose sum is equal to zero"
   ]
  },
  {
   "cell_type": "code",
   "execution_count": 3,
   "id": "05cb17d8",
   "metadata": {},
   "outputs": [
    {
     "name": "stdout",
     "output_type": "stream",
     "text": [
      "Original Linked List:\n",
      "3 , 4 , -7 , 5 , -6 , 6 , None\n",
      "Linked List after Deleting Zero Sum Sublists:\n",
      "5 , None\n"
     ]
    }
   ],
   "source": [
    "class Node:\n",
    "    def __init__(self, data):\n",
    "        self.data = data\n",
    "        self.next = None\n",
    "\n",
    "def delete_zero_sum_sublists(head):\n",
    "    # Create a dummy node to simplify the code\n",
    "    dummy = Node(0)\n",
    "    dummy.next = head\n",
    "    current = dummy\n",
    "    prefix_sum = 0\n",
    "    prefix_sums = {}\n",
    "\n",
    "    while current:\n",
    "        prefix_sum += current.data\n",
    "\n",
    "        if prefix_sum in prefix_sums:\n",
    "            # Delete nodes between the previous occurrence and the current node\n",
    "            prev = prefix_sums[prefix_sum].next\n",
    "            temp_sum = prefix_sum\n",
    "            while prev != current:\n",
    "                temp_sum += prev.data\n",
    "                del prefix_sums[temp_sum]\n",
    "                prev = prev.next\n",
    "            prefix_sums[prefix_sum].next = current.next\n",
    "        else:\n",
    "            prefix_sums[prefix_sum] = current\n",
    "\n",
    "        current = current.next\n",
    "\n",
    "    return dummy.next\n",
    "\n",
    "def print_linked_list(head):\n",
    "    current = head\n",
    "    while current:\n",
    "        print(current.data, end=\" , \")\n",
    "        current = current.next\n",
    "    print(\"None\")\n",
    "\n",
    "# Example usage\n",
    "head = Node(3)\n",
    "head.next = Node(4)\n",
    "head.next.next = Node(-7)\n",
    "head.next.next.next = Node(5)\n",
    "head.next.next.next.next = Node(-6)\n",
    "head.next.next.next.next.next = Node(6)\n",
    "\n",
    "print(\"Original Linked List:\")\n",
    "print_linked_list(head)\n",
    "\n",
    "new_head = delete_zero_sum_sublists(head)\n",
    "\n",
    "print(\"Linked List after Deleting Zero Sum Sublists:\")\n",
    "print_linked_list(new_head)\n"
   ]
  },
  {
   "cell_type": "code",
   "execution_count": null,
   "id": "788d79bb",
   "metadata": {},
   "outputs": [],
   "source": [
    "2.Reverse a linked list in groups of given size"
   ]
  },
  {
   "cell_type": "code",
   "execution_count": 5,
   "id": "3a8cd6e1",
   "metadata": {},
   "outputs": [
    {
     "name": "stdout",
     "output_type": "stream",
     "text": [
      "Original Linked List:\n",
      "1 , 2 , 3 , 4 , 5 , 6 , 7 , None\n",
      "Linked List reversed in groups of size 3:\n",
      "3 , 2 , 1 , 6 , 5 , 4 , 7 , None\n"
     ]
    }
   ],
   "source": [
    "class Node:\n",
    "    def __init__(self, data):\n",
    "        self.data = data\n",
    "        self.next = None\n",
    "\n",
    "def reverse_in_groups(head, group_size):\n",
    "    if not head or group_size <= 1:\n",
    "        return head\n",
    "\n",
    "    prev = None\n",
    "    current = head\n",
    "    count = 0\n",
    "\n",
    "    # Count the number of nodes in the current group\n",
    "    temp = head\n",
    "    while temp and count < group_size:\n",
    "        temp = temp.next\n",
    "        count += 1\n",
    "\n",
    "    if count < group_size:\n",
    "        return head  # The remaining group is smaller than the specified group size\n",
    "\n",
    "    # Reverse the current group\n",
    "    while count > 0:\n",
    "        next_node = current.next\n",
    "        current.next = prev\n",
    "        prev = current\n",
    "        current = next_node\n",
    "        count -= 1\n",
    "\n",
    "    # Recursively reverse the rest of the linked list\n",
    "    if next_node:\n",
    "        head.next = reverse_in_groups(next_node, group_size)\n",
    "\n",
    "    return prev  # New head of the reversed group\n",
    "\n",
    "def print_linked_list(head):\n",
    "    current = head\n",
    "    while current:\n",
    "        print(current.data, end=\" , \")\n",
    "        current = current.next\n",
    "    print(\"None\")\n",
    "\n",
    "# Example usage\n",
    "head = Node(1)\n",
    "head.next = Node(2)\n",
    "head.next.next = Node(3)\n",
    "head.next.next.next = Node(4)\n",
    "head.next.next.next.next = Node(5)\n",
    "head.next.next.next.next.next = Node(6)\n",
    "head.next.next.next.next.next.next = Node(7)\n",
    "\n",
    "print(\"Original Linked List:\")\n",
    "print_linked_list(head)\n",
    "\n",
    "group_size = 3\n",
    "new_head = reverse_in_groups(head, group_size)\n",
    "\n",
    "print(f\"Linked List reversed in groups of size {group_size}:\")\n",
    "print_linked_list(new_head)\n"
   ]
  },
  {
   "cell_type": "code",
   "execution_count": null,
   "id": "b15c0116",
   "metadata": {},
   "outputs": [],
   "source": [
    "3.Merge a linked list into another linked list at alternate positions."
   ]
  },
  {
   "cell_type": "code",
   "execution_count": 8,
   "id": "db88bd2a",
   "metadata": {},
   "outputs": [
    {
     "name": "stdout",
     "output_type": "stream",
     "text": [
      "List 1:\n",
      "1 , 2 , 3 , None\n",
      "List 2:\n",
      "4 , 5 , 6 , None\n",
      "Merged List:\n",
      "1 , 4 , 2 , 5 , 3 , 6 , None\n"
     ]
    }
   ],
   "source": [
    "class Node:\n",
    "    def __init__(self, data):\n",
    "        self.data = data\n",
    "        self.next = None\n",
    "\n",
    "def merge_at_alternate_positions(list1, list2):\n",
    "    if not list1:\n",
    "        return list2\n",
    "    if not list2:\n",
    "        return list1\n",
    "\n",
    "    current1 = list1\n",
    "    current2 = list2\n",
    "\n",
    "    while current1 and current2:\n",
    "        temp1 = current1.next\n",
    "        temp2 = current2.next\n",
    "\n",
    "        current1.next = current2\n",
    "        current2.next = temp1\n",
    "\n",
    "        current1 = temp1\n",
    "        current2 = temp2\n",
    "\n",
    "    return list1  # The merged list\n",
    "\n",
    "def print_linked_list(head):\n",
    "    current = head\n",
    "    while current:\n",
    "        print(current.data, end=\" , \")\n",
    "        current = current.next\n",
    "    print(\"None\")\n",
    "\n",
    "# Example usage\n",
    "list1 = Node(1)\n",
    "list1.next = Node(2)\n",
    "list1.next.next = Node(3)\n",
    "\n",
    "list2 = Node(4)\n",
    "list2.next = Node(5)\n",
    "list2.next.next = Node(6)\n",
    "\n",
    "print(\"List 1:\")\n",
    "print_linked_list(list1)\n",
    "\n",
    "print(\"List 2:\")\n",
    "print_linked_list(list2)\n",
    "\n",
    "merged_head = merge_at_alternate_positions(list1, list2)\n",
    "\n",
    "print(\"Merged List:\")\n",
    "print_linked_list(merged_head)\n"
   ]
  },
  {
   "cell_type": "code",
   "execution_count": null,
   "id": "47a754e8",
   "metadata": {},
   "outputs": [],
   "source": [
    "4.In an array, Count Pairs with given sum"
   ]
  },
  {
   "cell_type": "code",
   "execution_count": 13,
   "id": "14619370",
   "metadata": {},
   "outputs": [
    {
     "name": "stdout",
     "output_type": "stream",
     "text": [
      "Number of pairs with sum 7: 3\n"
     ]
    }
   ],
   "source": [
    "def count_pairs_with_sum(arr, target_sum):\n",
    "    count = 0\n",
    "    num_set = set()  # Create a set to store unique numbers encountered\n",
    "\n",
    "    for num in arr:\n",
    "        complement = target_sum - num  # Calculate the complement of the current number\n",
    "        if complement in num_set:\n",
    "            count += 1\n",
    "        num_set.add(num)  # Add the current number to the set\n",
    "\n",
    "    return count\n",
    "\n",
    "# Example usage\n",
    "arr = [1, 2, 3, 4, 5, 6]\n",
    "target_sum = 7\n",
    "\n",
    "pairs_count = count_pairs_with_sum(arr, target_sum)\n",
    "print(f\"Number of pairs with sum {target_sum}: {pairs_count}\")\n"
   ]
  },
  {
   "cell_type": "code",
   "execution_count": null,
   "id": "7d7f9564",
   "metadata": {},
   "outputs": [],
   "source": [
    "5.Find duplicates in an array"
   ]
  },
  {
   "cell_type": "code",
   "execution_count": 19,
   "id": "b895c1aa",
   "metadata": {},
   "outputs": [
    {
     "name": "stdout",
     "output_type": "stream",
     "text": [
      "Duplicate elements in the array: [2, 4]\n"
     ]
    }
   ],
   "source": [
    "def find_duplicates(arr):\n",
    "    arr.sort()\n",
    "    duplicates = []\n",
    "\n",
    "    for i in range(1, len(arr)):\n",
    "        if arr[i] == arr[i - 1]:\n",
    "            duplicates.append(arr[i])\n",
    "\n",
    "    return duplicates\n",
    "\n",
    "# Example usage\n",
    "arr = [1, 2, 3, 2, 4, 5, 4, 6]\n",
    "duplicate_elements = find_duplicates(arr)\n",
    "print(\"Duplicate elements in the array:\", duplicate_elements)\n"
   ]
  },
  {
   "cell_type": "code",
   "execution_count": null,
   "id": "fbc617f5",
   "metadata": {},
   "outputs": [],
   "source": [
    "6.Find the Kth largest and Kth smallest number in an array"
   ]
  },
  {
   "cell_type": "code",
   "execution_count": 26,
   "id": "7c8972ed",
   "metadata": {},
   "outputs": [
    {
     "name": "stdout",
     "output_type": "stream",
     "text": [
      "The 3th largest element is 5\n"
     ]
    }
   ],
   "source": [
    "def kth_largest(arr, k):\n",
    "    sorted_arr = sorted(arr, reverse=True)\n",
    "    return sorted_arr[k - 1]\n",
    "\n",
    "# Example usage\n",
    "arr = [3, 1, 4, 1, 5, 9, 2, 6, 5, 3]\n",
    "k = 3\n",
    "kth_largest_element = kth_largest(arr, k)\n",
    "print(f\"The {k}th largest element is {kth_largest_element}\")\n"
   ]
  },
  {
   "cell_type": "code",
   "execution_count": null,
   "id": "1859062e",
   "metadata": {},
   "outputs": [],
   "source": [
    "7.Move all the negative elements to one side of the array"
   ]
  },
  {
   "cell_type": "code",
   "execution_count": 30,
   "id": "781b31bd",
   "metadata": {},
   "outputs": [
    {
     "name": "stdout",
     "output_type": "stream",
     "text": [
      "Array with negative elements moved to one side: [-10, -3, -2, -6, -7, 5, 4, 8, 1]\n"
     ]
    }
   ],
   "source": [
    "def move_negatives_to_one_side(arr):\n",
    "    left = 0\n",
    "    right = len(arr) - 1\n",
    "\n",
    "    while left <= right:\n",
    "        if arr[left] < 0 and arr[right] < 0:\n",
    "            left += 1\n",
    "        elif arr[left] >= 0 and arr[right] < 0:\n",
    "            arr[left], arr[right] = arr[right], arr[left]\n",
    "            left += 1\n",
    "            right -= 1\n",
    "        elif arr[left] >= 0 and arr[right] >= 0:\n",
    "            right -= 1\n",
    "        else:\n",
    "            left += 1\n",
    "            right -= 1\n",
    "\n",
    "    return arr\n",
    "\n",
    "# Example usage\n",
    "arr = [1, -3, -2, 4, 5, -7, -6, 8, -10]\n",
    "result = move_negatives_to_one_side(arr)\n",
    "print(\"Array with negative elements moved to one side:\", result)\n"
   ]
  },
  {
   "cell_type": "code",
   "execution_count": null,
   "id": "85323a48",
   "metadata": {},
   "outputs": [],
   "source": [
    "8.Reverse a string using a stack data structure"
   ]
  },
  {
   "cell_type": "code",
   "execution_count": 33,
   "id": "52648cae",
   "metadata": {},
   "outputs": [
    {
     "name": "stdout",
     "output_type": "stream",
     "text": [
      "Original string: Hello, World!\n",
      "Reversed string: !dlroW ,olleH\n"
     ]
    }
   ],
   "source": [
    "def reverse_string(input_string):\n",
    "    stack = []\n",
    "    for char in input_string:\n",
    "        stack.append(char)\n",
    "\n",
    "    reversed_string = \"\"\n",
    "    while stack:\n",
    "        reversed_string += stack.pop()\n",
    "\n",
    "    return reversed_string\n",
    "\n",
    "# Example usage\n",
    "input_string = \"Hello, World!\"\n",
    "reversed_result = reverse_string(input_string)\n",
    "print(\"Original string:\", input_string)\n",
    "print(\"Reversed string:\", reversed_result)\n"
   ]
  },
  {
   "cell_type": "code",
   "execution_count": null,
   "id": "476b4afc",
   "metadata": {},
   "outputs": [],
   "source": [
    "9.Evaluate a postfix expression using stack"
   ]
  },
  {
   "cell_type": "code",
   "execution_count": 36,
   "id": "4f39aaae",
   "metadata": {},
   "outputs": [
    {
     "name": "stdout",
     "output_type": "stream",
     "text": [
      "Result of postfix expression '23*5+': 11.0\n"
     ]
    }
   ],
   "source": [
    "def evaluate_postfix(expression):\n",
    "    stack = []\n",
    "    \n",
    "    # Helper function to perform operations\n",
    "    def do_operation(operator, operand2, operand1):\n",
    "        if operator == '+':\n",
    "            return operand1 + operand2\n",
    "        elif operator == '-':\n",
    "            return operand1 - operand2\n",
    "        elif operator == '*':\n",
    "            return operand1 * operand2\n",
    "        elif operator == '/':\n",
    "            return operand1 / operand2\n",
    "    \n",
    "    for token in expression:\n",
    "        if token.isdigit():\n",
    "            # If the token is a number, push it onto the stack\n",
    "            stack.append(float(token))\n",
    "        else:\n",
    "            # If the token is an operator, pop two operands from the stack and perform the operation\n",
    "            operand2 = stack.pop()\n",
    "            operand1 = stack.pop()\n",
    "            result = do_operation(token, operand2, operand1)\n",
    "            stack.append(result)\n",
    "    \n",
    "    # The final result should be on top of the stack\n",
    "    return stack[0]\n",
    "\n",
    "# Example usage\n",
    "postfix_expression = \"23*5+\"\n",
    "result = evaluate_postfix(postfix_expression)\n",
    "print(f\"Result of postfix expression '{postfix_expression}': {result}\")\n"
   ]
  },
  {
   "cell_type": "code",
   "execution_count": null,
   "id": "edd0819f",
   "metadata": {},
   "outputs": [],
   "source": [
    "10.Implement a queue using the stack data structure"
   ]
  },
  {
   "cell_type": "code",
   "execution_count": 46,
   "id": "3c524296",
   "metadata": {},
   "outputs": [
    {
     "name": "stdout",
     "output_type": "stream",
     "text": [
      "Dequeue elements:\n",
      "1\n",
      "2\n",
      "Dequeue elements:\n",
      "3\n",
      "4\n",
      "5\n"
     ]
    }
   ],
   "source": [
    "class QueueUsingStacks:\n",
    "    def __init__(self):\n",
    "        self.stack_enqueue = []  # Stack for enqueueing elements\n",
    "        self.stack_dequeue = []  # Stack for dequeueing elements\n",
    "\n",
    "    def enqueue(self, item):\n",
    "        # To enqueue, simply push the item onto the enqueue stack\n",
    "        self.stack_enqueue.append(item)\n",
    "\n",
    "    def dequeue(self):\n",
    "        # If the dequeue stack is empty, transfer elements from the enqueue stack\n",
    "        if not self.stack_dequeue:\n",
    "            if not self.stack_enqueue:\n",
    "                return None  # The queue is empty\n",
    "            while self.stack_enqueue:\n",
    "                self.stack_dequeue.append(self.stack_enqueue.pop())\n",
    "\n",
    "        # Pop the top element from the dequeue stack to dequeue\n",
    "        return self.stack_dequeue.pop()\n",
    "\n",
    "    def is_empty(self):\n",
    "        return not (self.stack_enqueue or self.stack_dequeue)\n",
    "\n",
    "# Example usage\n",
    "queue = QueueUsingStacks()\n",
    "queue.enqueue(1)\n",
    "queue.enqueue(2)\n",
    "queue.enqueue(3)\n",
    "\n",
    "print(\"Dequeue elements:\")\n",
    "print(queue.dequeue())  # 1\n",
    "print(queue.dequeue())  # 2\n",
    "\n",
    "queue.enqueue(4)\n",
    "queue.enqueue(5)\n",
    "\n",
    "print(\"Dequeue elements:\")\n",
    "print(queue.dequeue())  # 3\n",
    "print(queue.dequeue())  # 4\n",
    "print(queue.dequeue())  # 5\n"
   ]
  },
  {
   "cell_type": "code",
   "execution_count": null,
   "id": "04d4703c",
   "metadata": {},
   "outputs": [],
   "source": []
  }
 ],
 "metadata": {
  "kernelspec": {
   "display_name": "Python 3 (ipykernel)",
   "language": "python",
   "name": "python3"
  },
  "language_info": {
   "codemirror_mode": {
    "name": "ipython",
    "version": 3
   },
   "file_extension": ".py",
   "mimetype": "text/x-python",
   "name": "python",
   "nbconvert_exporter": "python",
   "pygments_lexer": "ipython3",
   "version": "3.10.9"
  }
 },
 "nbformat": 4,
 "nbformat_minor": 5
}
