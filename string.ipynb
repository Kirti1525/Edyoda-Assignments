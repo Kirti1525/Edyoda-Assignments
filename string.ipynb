{
 "cells": [
  {
   "cell_type": "code",
   "execution_count": 2,
   "id": "72bbfab4",
   "metadata": {},
   "outputs": [
    {
     "data": {
      "text/plain": [
       "'l'"
      ]
     },
     "execution_count": 2,
     "metadata": {},
     "output_type": "execute_result"
    }
   ],
   "source": [
    "word='Apple'\n",
    "word[3]"
   ]
  },
  {
   "cell_type": "code",
   "execution_count": 3,
   "id": "716eea0e",
   "metadata": {},
   "outputs": [
    {
     "data": {
      "text/plain": [
       "'a'"
      ]
     },
     "execution_count": 3,
     "metadata": {},
     "output_type": "execute_result"
    }
   ],
   "source": [
    "word='Banana'\n",
    "word[-1]"
   ]
  },
  {
   "cell_type": "code",
   "execution_count": 6,
   "id": "9633d66b",
   "metadata": {},
   "outputs": [
    {
     "data": {
      "text/plain": [
       "'ppl'"
      ]
     },
     "execution_count": 6,
     "metadata": {},
     "output_type": "execute_result"
    }
   ],
   "source": [
    "word=\"Apple\"\n",
    "word[1:4]"
   ]
  },
  {
   "cell_type": "code",
   "execution_count": null,
   "id": "e212b6e3",
   "metadata": {},
   "outputs": [],
   "source": []
  }
 ],
 "metadata": {
  "kernelspec": {
   "display_name": "Python 3",
   "language": "python",
   "name": "python3"
  },
  "language_info": {
   "codemirror_mode": {
    "name": "ipython",
    "version": 3
   },
   "file_extension": ".py",
   "mimetype": "text/x-python",
   "name": "python",
   "nbconvert_exporter": "python",
   "pygments_lexer": "ipython3",
   "version": "3.8.8"
  }
 },
 "nbformat": 4,
 "nbformat_minor": 5
}
