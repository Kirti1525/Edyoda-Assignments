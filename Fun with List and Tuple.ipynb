{
 "cells": [
  {
   "cell_type": "code",
   "execution_count": 1,
   "id": "ab99c741",
   "metadata": {},
   "outputs": [
    {
     "name": "stdout",
     "output_type": "stream",
     "text": [
      "Sorted:\n",
      "[(2, 1), (1, 2), (2, 3), (4, 4), (2, 5)]\n"
     ]
    }
   ],
   "source": [
    "def last(n):\n",
    "    return n[-1]\n",
    "def sort(tuples):\n",
    "    return sorted(tuples, key=last)\n",
    "a=[(2, 5), (1, 2), (4, 4), (2, 3), (2, 1)]\n",
    "print(\"Sorted:\")\n",
    "print(sort(a))\n"
   ]
  },
  {
   "cell_type": "code",
   "execution_count": 4,
   "id": "6379fb00",
   "metadata": {},
   "outputs": [
    {
     "name": "stdout",
     "output_type": "stream",
     "text": [
      "[(2, 1), (1, 2), (2, 3), (4, 4), (2, 5)]\n"
     ]
    }
   ],
   "source": [
    "def Sort_Tuple(tup):\n",
    "    lst = len(tup)\n",
    "    for i in range(0, lst):\n",
    "\n",
    "        for j in range(0, lst-i-1):\n",
    "            if (tup[j][-1] > tup[j + 1][-1]):\n",
    "                temp = tup[j]\n",
    "                tup[j]= tup[j + 1]\n",
    "                tup[j + 1]= temp\n",
    "    return tup\n",
    "\n",
    "tup =[(2, 5), (1, 2), (4, 4), (2, 3), (2, 1)]\n",
    "print(Sort_Tuple(tup))\n"
   ]
  },
  {
   "cell_type": "code",
   "execution_count": 1,
   "id": "77238324",
   "metadata": {},
   "outputs": [
    {
     "name": "stdout",
     "output_type": "stream",
     "text": [
      "Enter a list of tuples:[(2, 5), (1, 2), (4, 4),(2, 1)]\n",
      "[' ', ' ', ' ', ' ', ' ', ' ', '(', '(', '(', '(', ')', ')', ')', ')', ',', ',', ',', ',', ',', ',', ',', '1', '1', '2', '2', '2', '4', '4', '5', '[', ']']\n"
     ]
    }
   ],
   "source": [
    "def last(n):\n",
    "    return n[-1]  \n",
    " \n",
    "def sort(tuples):\n",
    "    return sorted(tuples, key=last)\n",
    " \n",
    "a=input(\"Enter a list of tuples:\")\n",
    "\n",
    "print(sort(a))"
   ]
  },
  {
   "cell_type": "code",
   "execution_count": null,
   "id": "d5429b82",
   "metadata": {},
   "outputs": [],
   "source": []
  }
 ],
 "metadata": {
  "kernelspec": {
   "display_name": "Python 3",
   "language": "python",
   "name": "python3"
  },
  "language_info": {
   "codemirror_mode": {
    "name": "ipython",
    "version": 3
   },
   "file_extension": ".py",
   "mimetype": "text/x-python",
   "name": "python",
   "nbconvert_exporter": "python",
   "pygments_lexer": "ipython3",
   "version": "3.8.8"
  }
 },
 "nbformat": 4,
 "nbformat_minor": 5
}
