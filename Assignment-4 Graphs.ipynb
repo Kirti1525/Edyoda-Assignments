{
 "cells": [
  {
   "cell_type": "code",
   "execution_count": null,
   "id": "775a9461",
   "metadata": {},
   "outputs": [],
   "source": [
    "1. Breadth First Traversal for a Graph"
   ]
  },
  {
   "cell_type": "code",
   "execution_count": 9,
   "id": "031289b2",
   "metadata": {},
   "outputs": [
    {
     "name": "stdout",
     "output_type": "stream",
     "text": [
      "Breadth First Traversal (starting from vertex 2):\n",
      "2 0 1 3 "
     ]
    }
   ],
   "source": [
    "from collections import defaultdict, deque\n",
    "\n",
    "class Graph:\n",
    "    def __init__(self):\n",
    "        self.graph = defaultdict(list)\n",
    "\n",
    "    def add_edge(self, u, v):\n",
    "        self.graph[u].append(v)\n",
    "        self.graph[v].append(u)  # For an undirected graph\n",
    "\n",
    "    def bfs(self, start):\n",
    "        visited = set()\n",
    "        queue = deque()\n",
    "\n",
    "        queue.append(start)\n",
    "        visited.add(start)\n",
    "\n",
    "        while queue:\n",
    "            vertex = queue.popleft()\n",
    "            print(vertex, end=' ')\n",
    "\n",
    "            for neighbor in self.graph[vertex]:\n",
    "                if neighbor not in visited:\n",
    "                    queue.append(neighbor)\n",
    "                    visited.add(neighbor)\n",
    "\n",
    "# Example usage\n",
    "g = Graph()\n",
    "g.add_edge(0, 1)\n",
    "g.add_edge(0, 2)\n",
    "g.add_edge(1, 2)\n",
    "g.add_edge(2, 0)\n",
    "g.add_edge(2, 3)\n",
    "g.add_edge(3, 3)\n",
    "\n",
    "print(\"Breadth First Traversal (starting from vertex 2):\")\n",
    "g.bfs(2)\n"
   ]
  },
  {
   "cell_type": "code",
   "execution_count": null,
   "id": "d56dfa60",
   "metadata": {},
   "outputs": [],
   "source": [
    "2.Depth First Traversal for a Graph"
   ]
  },
  {
   "cell_type": "code",
   "execution_count": 12,
   "id": "ad1f2b5d",
   "metadata": {},
   "outputs": [
    {
     "name": "stdout",
     "output_type": "stream",
     "text": [
      "Depth First Traversal (starting from vertex 2):\n",
      "2 0 1 3 "
     ]
    }
   ],
   "source": [
    "from collections import defaultdict\n",
    "\n",
    "class Graph:\n",
    "    def __init__(self):\n",
    "        self.graph = defaultdict(list)\n",
    "\n",
    "    def add_edge(self, u, v):\n",
    "        self.graph[u].append(v)\n",
    "        self.graph[v].append(u)  # For an undirected graph\n",
    "\n",
    "    def dfs(self, vertex, visited):\n",
    "        visited.add(vertex)\n",
    "        print(vertex, end=' ')\n",
    "\n",
    "        for neighbor in self.graph[vertex]:\n",
    "            if neighbor not in visited:\n",
    "                self.dfs(neighbor, visited)\n",
    "\n",
    "# Example usage\n",
    "g = Graph()\n",
    "g.add_edge(0, 1)\n",
    "g.add_edge(0, 2)\n",
    "g.add_edge(1, 2)\n",
    "g.add_edge(2, 0)\n",
    "g.add_edge(2, 3)\n",
    "g.add_edge(3, 3)\n",
    "\n",
    "visited = set()\n",
    "\n",
    "print(\"Depth First Traversal (starting from vertex 2):\")\n",
    "g.dfs(2, visited)\n"
   ]
  },
  {
   "cell_type": "code",
   "execution_count": null,
   "id": "6142a42b",
   "metadata": {},
   "outputs": [],
   "source": [
    "3.Count the number of nodes at given level in a tree using BFS"
   ]
  },
  {
   "cell_type": "code",
   "execution_count": 16,
   "id": "1d00678c",
   "metadata": {},
   "outputs": [
    {
     "name": "stdout",
     "output_type": "stream",
     "text": [
      "Number of nodes at level 1: 2\n"
     ]
    }
   ],
   "source": [
    "from collections import deque\n",
    "\n",
    "class TreeNode:\n",
    "    def __init__(self, value):\n",
    "        self.value = value\n",
    "        self.children = []\n",
    "\n",
    "def count_nodes_at_level(root, target_level):\n",
    "    if not root:\n",
    "        return 0\n",
    "\n",
    "    queue = deque()\n",
    "    queue.append(root)\n",
    "    current_level = 0\n",
    "\n",
    "    while queue:\n",
    "        level_size = len(queue)\n",
    "\n",
    "        for i in range(level_size):\n",
    "            node = queue.popleft()\n",
    "\n",
    "            if current_level == target_level:\n",
    "                count = level_size\n",
    "                return count\n",
    "\n",
    "            for child in node.children:\n",
    "                queue.append(child)\n",
    "\n",
    "        current_level += 1\n",
    "\n",
    "    return 0  # The target level does not exist in the tree\n",
    "\n",
    "# Example usage\n",
    "root = TreeNode(1)\n",
    "root.children = [TreeNode(2), TreeNode(3)]\n",
    "root.children[0].children = [TreeNode(4), TreeNode(5)]\n",
    "root.children[1].children = [TreeNode(6)]\n",
    "\n",
    "target_level = 1\n",
    "count = count_nodes_at_level(root, target_level)\n",
    "print(f\"Number of nodes at level {target_level}: {count}\")\n"
   ]
  },
  {
   "cell_type": "code",
   "execution_count": null,
   "id": "4ff8327f",
   "metadata": {},
   "outputs": [],
   "source": [
    "4.Count number of trees in a forest"
   ]
  },
  {
   "cell_type": "code",
   "execution_count": 20,
   "id": "b37c966f",
   "metadata": {},
   "outputs": [
    {
     "name": "stdout",
     "output_type": "stream",
     "text": [
      "Number of trees in the forest: 3\n"
     ]
    }
   ],
   "source": [
    "from collections import defaultdict\n",
    "\n",
    "class Graph:\n",
    "    def __init__(self):\n",
    "        self.graph = defaultdict(list)\n",
    "\n",
    "    def add_edge(self, u, v):\n",
    "        self.graph[u].append(v)\n",
    "        self.graph[v].append(u)  # For an undirected graph\n",
    "\n",
    "    def count_trees_in_forest(self):\n",
    "        def dfs(node, visited):\n",
    "            visited.add(node)\n",
    "            for neighbor in self.graph[node]:\n",
    "                if neighbor not in visited:\n",
    "                    dfs(neighbor, visited)\n",
    "\n",
    "        visited = set()\n",
    "        tree_count = 0\n",
    "\n",
    "        for node in self.graph:\n",
    "            if node not in visited:\n",
    "                dfs(node, visited)\n",
    "                tree_count += 1\n",
    "\n",
    "        return tree_count\n",
    "\n",
    "# Example usage\n",
    "g = Graph()\n",
    "g.add_edge(0, 1)\n",
    "g.add_edge(0, 2)\n",
    "g.add_edge(3, 4)\n",
    "g.add_edge(5, 5)  # A self-loop\n",
    "\n",
    "number_of_trees = g.count_trees_in_forest()\n",
    "print(f\"Number of trees in the forest: {number_of_trees}\")\n"
   ]
  },
  {
   "cell_type": "code",
   "execution_count": null,
   "id": "64f2b3af",
   "metadata": {},
   "outputs": [],
   "source": [
    "5.Detect Cycle in a Directed Graph"
   ]
  },
  {
   "cell_type": "code",
   "execution_count": 24,
   "id": "00186fca",
   "metadata": {},
   "outputs": [
    {
     "name": "stdout",
     "output_type": "stream",
     "text": [
      "The directed graph contains a cycle.\n"
     ]
    }
   ],
   "source": [
    "from collections import defaultdict\n",
    "\n",
    "class Graph:\n",
    "    def __init__(self):\n",
    "        self.graph = defaultdict(list)\n",
    "\n",
    "    def add_edge(self, u, v):\n",
    "        self.graph[u].append(v)\n",
    "\n",
    "    def is_cyclic_util(self, node, visited, rec_stack):\n",
    "        visited[node] = True\n",
    "        rec_stack[node] = True\n",
    "\n",
    "        for neighbor in self.graph[node]:\n",
    "            if not visited[neighbor]:\n",
    "                if self.is_cyclic_util(neighbor, visited, rec_stack):\n",
    "                    return True\n",
    "            elif rec_stack[neighbor]:\n",
    "                return True\n",
    "\n",
    "        rec_stack[node] = False\n",
    "        return False\n",
    "\n",
    "    def is_cyclic(self):\n",
    "        visited = [False] * len(self.graph)\n",
    "        rec_stack = [False] * len(self.graph)\n",
    "\n",
    "        for node in self.graph:\n",
    "            if not visited[node]:\n",
    "                if self.is_cyclic_util(node, visited, rec_stack):\n",
    "                    return True\n",
    "\n",
    "        return False\n",
    "\n",
    "# Example usage\n",
    "g = Graph()\n",
    "g.add_edge(0, 1)\n",
    "g.add_edge(1, 2)\n",
    "g.add_edge(2, 0)\n",
    "g.add_edge(2, 3)\n",
    "\n",
    "has_cycle = g.is_cyclic()\n",
    "\n",
    "if has_cycle:\n",
    "    print(\"The directed graph contains a cycle.\")\n",
    "else:\n",
    "    print(\"The directed graph does not contain a cycle.\")\n"
   ]
  },
  {
   "cell_type": "code",
   "execution_count": null,
   "id": "b034e1df",
   "metadata": {},
   "outputs": [],
   "source": [
    "Implement n-Queen’s Problem"
   ]
  },
  {
   "cell_type": "code",
   "execution_count": 27,
   "id": "149c3e39",
   "metadata": {},
   "outputs": [
    {
     "name": "stdout",
     "output_type": "stream",
     "text": [
      "Solution 1:\n",
      "..Q.\n",
      "Q...\n",
      "...Q\n",
      ".Q..\n",
      "\n",
      "Solution 2:\n",
      ".Q..\n",
      "...Q\n",
      "Q...\n",
      "..Q.\n",
      "\n"
     ]
    }
   ],
   "source": [
    "def is_safe(board, row, col, n):\n",
    "    # Check if a queen can be placed at board[row][col]\n",
    "\n",
    "    # Check the row on the left side\n",
    "    for i in range(col):\n",
    "        if board[row][i] == 1:\n",
    "            return False\n",
    "\n",
    "    # Check the upper diagonal on the left side\n",
    "    for i, j in zip(range(row, -1, -1), range(col, -1, -1)):\n",
    "        if board[i][j] == 1:\n",
    "            return False\n",
    "\n",
    "    # Check the lower diagonal on the left side\n",
    "    for i, j in zip(range(row, n, 1), range(col, -1, -1)):\n",
    "        if board[i][j] == 1:\n",
    "            return False\n",
    "\n",
    "    return True\n",
    "\n",
    "def solve_n_queens_util(board, col, n, solutions):\n",
    "    # Base case: If all queens are placed, add the solution to the list\n",
    "    if col == n:\n",
    "        solution = [''.join(['Q' if board[i][j] == 1 else '.' for j in range(n)]) for i in range(n)]\n",
    "        solutions.append(solution)\n",
    "        return\n",
    "\n",
    "    for i in range(n):\n",
    "        if is_safe(board, i, col, n):\n",
    "            board[i][col] = 1\n",
    "            solve_n_queens_util(board, col + 1, n, solutions)\n",
    "            board[i][col] = 0\n",
    "\n",
    "def solve_n_queens(n):\n",
    "    board = [[0] * n for _ in range(n)]\n",
    "    solutions = []\n",
    "    solve_n_queens_util(board, 0, n, solutions)\n",
    "    return solutions\n",
    "\n",
    "# Example usage\n",
    "n = 4\n",
    "solutions = solve_n_queens(n)\n",
    "for idx, solution in enumerate(solutions):\n",
    "    print(f\"Solution {idx + 1}:\")\n",
    "    for row in solution:\n",
    "        print(row)\n",
    "    print()\n"
   ]
  },
  {
   "cell_type": "code",
   "execution_count": null,
   "id": "7d44a0be",
   "metadata": {},
   "outputs": [],
   "source": []
  }
 ],
 "metadata": {
  "kernelspec": {
   "display_name": "Python 3 (ipykernel)",
   "language": "python",
   "name": "python3"
  },
  "language_info": {
   "codemirror_mode": {
    "name": "ipython",
    "version": 3
   },
   "file_extension": ".py",
   "mimetype": "text/x-python",
   "name": "python",
   "nbconvert_exporter": "python",
   "pygments_lexer": "ipython3",
   "version": "3.10.9"
  }
 },
 "nbformat": 4,
 "nbformat_minor": 5
}
