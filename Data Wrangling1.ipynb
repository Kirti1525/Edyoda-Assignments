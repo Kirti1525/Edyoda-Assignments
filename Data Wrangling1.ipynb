{
 "cells": [
  {
   "cell_type": "code",
   "execution_count": null,
   "id": "7026c527",
   "metadata": {},
   "outputs": [],
   "source": [
    "Q1.Create a null vector of size 10 but the fifth value which is 1."
   ]
  },
  {
   "cell_type": "code",
   "execution_count": 9,
   "id": "cac3e59e",
   "metadata": {},
   "outputs": [
    {
     "name": "stdout",
     "output_type": "stream",
     "text": [
      "[0. 0. 0. 0. 1. 0. 0. 0. 0. 0.]\n"
     ]
    }
   ],
   "source": [
    "import numpy as np\n",
    "\n",
    "null_vector = np.zeros(10)\n",
    "null_vector[4] = 1\n",
    "print(null_vector)\n"
   ]
  },
  {
   "cell_type": "code",
   "execution_count": null,
   "id": "87cbebe1",
   "metadata": {},
   "outputs": [],
   "source": [
    "Q2.Create a vector with values ranging from 10 to 49."
   ]
  },
  {
   "cell_type": "code",
   "execution_count": 8,
   "id": "79255497",
   "metadata": {},
   "outputs": [
    {
     "name": "stdout",
     "output_type": "stream",
     "text": [
      "[10 11 12 13 14 15 16 17 18 19 20 21 22 23 24 25 26 27 28 29 30 31 32 33\n",
      " 34 35 36 37 38 39 40 41 42 43 44 45 46 47 48 49]\n"
     ]
    }
   ],
   "source": [
    "import numpy as np\n",
    "\n",
    "vector = np.arange(10, 50)\n",
    "print(vector)\n"
   ]
  },
  {
   "cell_type": "code",
   "execution_count": null,
   "id": "19267295",
   "metadata": {},
   "outputs": [],
   "source": [
    "Q3.Create a 3x3 matrix with values ranging from 0 to 8"
   ]
  },
  {
   "cell_type": "code",
   "execution_count": 17,
   "id": "e8ef2da8",
   "metadata": {},
   "outputs": [
    {
     "name": "stdout",
     "output_type": "stream",
     "text": [
      "[[0 1 2]\n",
      " [3 4 5]\n",
      " [6 7 8]]\n"
     ]
    }
   ],
   "source": [
    "import numpy as np\n",
    "\n",
    "values = np.arange(9)\n",
    "matrix = values.reshape(3, 3)\n",
    "print(matrix)\n"
   ]
  },
  {
   "cell_type": "code",
   "execution_count": null,
   "id": "a4c19348",
   "metadata": {},
   "outputs": [],
   "source": [
    "Q4.Find indices of non-zero elements from [1,2,0,0,4,0]"
   ]
  },
  {
   "cell_type": "code",
   "execution_count": 20,
   "id": "811fc4c7",
   "metadata": {},
   "outputs": [
    {
     "name": "stdout",
     "output_type": "stream",
     "text": [
      "(array([0, 1, 4], dtype=int64),)\n"
     ]
    }
   ],
   "source": [
    "import numpy as np\n",
    "\n",
    "\n",
    "arr = np.array([1, 2, 0, 0, 4, 0])\n",
    "nonzero_indices = np.nonzero(arr)\n",
    "print(nonzero_indices)\n"
   ]
  },
  {
   "cell_type": "code",
   "execution_count": null,
   "id": "352ee7f9",
   "metadata": {},
   "outputs": [],
   "source": [
    "Q5. Create a 10x10 array with random values and find the minimum and maximum values."
   ]
  },
  {
   "cell_type": "code",
   "execution_count": 30,
   "id": "b2d46759",
   "metadata": {},
   "outputs": [
    {
     "name": "stdout",
     "output_type": "stream",
     "text": [
      "Array:\n",
      "[[8.12220334e-01 7.57699841e-02 9.56010430e-01 7.44968161e-01\n",
      "  1.91680258e-01 2.49349719e-01 7.40662442e-01 2.43032152e-01\n",
      "  4.02738449e-01 9.57033626e-01]\n",
      " [8.48852292e-01 3.61425645e-01 8.48418076e-01 1.00977017e-01\n",
      "  4.79208937e-01 4.34069703e-01 2.98100704e-01 6.03584308e-01\n",
      "  4.22330492e-04 5.21587817e-01]\n",
      " [1.28794010e-02 7.96929648e-01 8.55234807e-01 6.64470668e-01\n",
      "  9.00393496e-02 1.61232862e-01 7.30804464e-01 3.05103089e-01\n",
      "  6.77896754e-01 8.61980637e-01]\n",
      " [3.77119962e-01 8.11491878e-01 6.98635837e-01 5.96799547e-01\n",
      "  6.99930848e-01 8.80002892e-01 7.09153168e-02 9.89262387e-01\n",
      "  3.19087714e-01 4.03866957e-01]\n",
      " [2.69711623e-01 9.22680601e-01 4.02721942e-02 1.52620054e-01\n",
      "  9.09559901e-01 5.58365463e-01 4.83217679e-01 7.23622694e-01\n",
      "  1.12399476e-01 1.56056457e-01]\n",
      " [8.39671307e-01 8.51592242e-01 3.63784191e-01 6.49487224e-01\n",
      "  4.50112927e-01 2.66186775e-01 9.33643244e-01 3.20593962e-01\n",
      "  3.81172013e-01 9.63521061e-01]\n",
      " [4.72704543e-03 2.83229850e-02 2.64918978e-01 2.70728123e-01\n",
      "  6.08343321e-01 4.20349126e-01 6.14193187e-02 1.46863230e-01\n",
      "  4.91971652e-01 3.75839488e-01]\n",
      " [4.11207361e-01 9.91587409e-01 3.70239420e-01 3.46516193e-01\n",
      "  9.41140832e-01 6.57908206e-02 4.68363889e-02 3.13943054e-01\n",
      "  2.59548003e-01 2.31373679e-01]\n",
      " [5.20119629e-01 7.52436711e-01 9.15578716e-01 9.46395420e-01\n",
      "  2.76618811e-01 8.14907129e-01 6.67096278e-01 6.22437657e-01\n",
      "  3.10295619e-01 3.98329199e-01]\n",
      " [7.99398542e-01 7.86273059e-01 5.22837490e-01 3.54313236e-02\n",
      "  4.73616060e-02 4.06841864e-01 8.25358571e-01 5.17141188e-01\n",
      "  6.05524987e-01 2.29214673e-01]]\n",
      "Minimum value: 0.0004223304917209125\n",
      "Maximum value: 0.9915874091461626\n"
     ]
    }
   ],
   "source": [
    "import numpy as np\n",
    "\n",
    "array = np.random.rand(10, 10)\n",
    "min_value = np.min(array)\n",
    "max_value = np.max(array)\n",
    "print(\"Array:\")\n",
    "print(array)\n",
    "print(f\"Minimum value: {min_value}\")\n",
    "print(f\"Maximum value: {max_value}\")\n"
   ]
  },
  {
   "cell_type": "code",
   "execution_count": null,
   "id": "dc298518",
   "metadata": {},
   "outputs": [],
   "source": [
    "Q6. Create a random vector of size 30 and find the mean value."
   ]
  },
  {
   "cell_type": "code",
   "execution_count": 38,
   "id": "0328f63b",
   "metadata": {},
   "outputs": [
    {
     "name": "stdout",
     "output_type": "stream",
     "text": [
      "Random Vector:\n",
      "[0.17429963 0.53054057 0.23611648 0.84184546 0.72934448 0.97066732\n",
      " 0.08847736 0.91690497 0.13452248 0.92962134 0.14285468 0.39403344\n",
      " 0.71063072 0.00960468 0.192196   0.22662091 0.31679875 0.90588441\n",
      " 0.25862445 0.08030997 0.39746024 0.55491057 0.82062928 0.41351108\n",
      " 0.35718553 0.98586806 0.71776027 0.48538595 0.61783089 0.82625696]\n",
      "Mean value: 0.4988898971164794\n"
     ]
    }
   ],
   "source": [
    "import numpy as np\n",
    "\n",
    "vector = np.random.rand(30)\n",
    "mean_value = np.mean(vector)\n",
    "print(\"Random Vector:\")\n",
    "print(vector)\n",
    "print(f\"Mean value: {mean_value}\")\n"
   ]
  }
 ],
 "metadata": {
  "kernelspec": {
   "display_name": "Python 3",
   "language": "python",
   "name": "python3"
  },
  "language_info": {
   "codemirror_mode": {
    "name": "ipython",
    "version": 3
   },
   "file_extension": ".py",
   "mimetype": "text/x-python",
   "name": "python",
   "nbconvert_exporter": "python",
   "pygments_lexer": "ipython3",
   "version": "3.8.8"
  }
 },
 "nbformat": 4,
 "nbformat_minor": 5
}
