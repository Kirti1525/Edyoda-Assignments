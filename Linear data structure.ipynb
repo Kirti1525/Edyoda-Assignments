{
 "cells": [
  {
   "cell_type": "code",
   "execution_count": null,
   "id": "270a05bc",
   "metadata": {},
   "outputs": [],
   "source": [
    "Q1. Write a program to find all pairs of an integer array whose sum is equal to a given number?"
   ]
  },
  {
   "cell_type": "code",
   "execution_count": 8,
   "id": "c3fe0f3c",
   "metadata": {},
   "outputs": [
    {
     "name": "stdout",
     "output_type": "stream",
     "text": [
      "[(7, 5), (8, 4), (10, 2)]\n"
     ]
    }
   ],
   "source": [
    "def find_pairs(arr, target_sum):\n",
    "    pairs = []\n",
    "    visited = set()\n",
    "\n",
    "    for num in arr:\n",
    "        complement = target_sum - num\n",
    "        if complement in visited:\n",
    "            pairs.append((num, complement))\n",
    "        visited.add(num)\n",
    "        \n",
    "    return pairs\n",
    "arr = [2, 4, 5, 7, 8, 9, 10]\n",
    "target_sum = 12\n",
    "result = find_pairs(arr, target_sum)\n",
    "print(result)\n"
   ]
  },
  {
   "cell_type": "code",
   "execution_count": null,
   "id": "0d48b08d",
   "metadata": {},
   "outputs": [],
   "source": [
    "Q2. Write a program to reverse an array in place? In place means you cannot create a new array. \n",
    "You have to update the original array."
   ]
  },
  {
   "cell_type": "code",
   "execution_count": 10,
   "id": "605acff4",
   "metadata": {},
   "outputs": [
    {
     "name": "stdout",
     "output_type": "stream",
     "text": [
      "[9, 2, 3, 8, 6, 4]\n"
     ]
    }
   ],
   "source": [
    "def reverse_array(arr):\n",
    "    start = 0\n",
    "    end = len(arr) - 1\n",
    "\n",
    "    while start < end:\n",
    "        arr[start], arr[end] = arr[end], arr[start]\n",
    "        start += 1\n",
    "        end -= 1\n",
    "        \n",
    "arr = [4,6,8,3,2,9]\n",
    "reverse_array(arr)\n",
    "print(arr)\n"
   ]
  },
  {
   "cell_type": "code",
   "execution_count": null,
   "id": "091bb0a8",
   "metadata": {},
   "outputs": [],
   "source": [
    "Q3. Write a program to check if two strings are a rotation of each other?"
   ]
  },
  {
   "cell_type": "code",
   "execution_count": 18,
   "id": "56a94832",
   "metadata": {},
   "outputs": [
    {
     "name": "stdout",
     "output_type": "stream",
     "text": [
      "Enter a string 1:hello\n",
      "Enter a string 2:llohe\n",
      "True\n"
     ]
    }
   ],
   "source": [
    "def are_rotations(str1, str2):\n",
    "    if len(str1) != len(str2):\n",
    "        return False\n",
    "\n",
    "    concatenated = str1 + str1\n",
    "    if str2 in concatenated:\n",
    "        return True\n",
    "    else:\n",
    "        return False\n",
    "\n",
    "string1 = input(\"Enter a string 1:\")\n",
    "string2 = input(\"Enter a string 2:\")\n",
    "result = are_rotations(string1, string2)\n",
    "print(result)\n"
   ]
  },
  {
   "cell_type": "code",
   "execution_count": null,
   "id": "36f0d2ae",
   "metadata": {},
   "outputs": [],
   "source": [
    "Q4. Write a program to print the first non-repeated character from a string?"
   ]
  },
  {
   "cell_type": "code",
   "execution_count": 27,
   "id": "cc8ff2ec",
   "metadata": {},
   "outputs": [
    {
     "name": "stdout",
     "output_type": "stream",
     "text": [
      "Enter the string:edyoda welcome you..!!\n",
      "a\n"
     ]
    }
   ],
   "source": [
    "def find_first_non_repeated_char(string):\n",
    "    char_count = {}\n",
    "    for char in string:\n",
    "        char_count[char] = char_count.get(char, 0) + 1\n",
    "    for char in string:\n",
    "        if char_count[char] == 1:\n",
    "            return char\n",
    "\n",
    "    return None\n",
    "input_string = input(\"Enter the string:\")\n",
    "result = find_first_non_repeated_char(input_string)\n",
    "print(result)\n"
   ]
  },
  {
   "cell_type": "code",
   "execution_count": null,
   "id": "f6240721",
   "metadata": {},
   "outputs": [],
   "source": [
    "Q5. Read about the Tower of Hanoi algorithm. Write a program to implement it."
   ]
  },
  {
   "cell_type": "code",
   "execution_count": 30,
   "id": "727cf156",
   "metadata": {},
   "outputs": [
    {
     "name": "stdout",
     "output_type": "stream",
     "text": [
      "Move disk 1 from A to C\n",
      "Move disk 2 from A to B\n",
      "Move disk 1 from C to B\n",
      "Move disk 3 from A to C\n",
      "Move disk 1 from B to A\n",
      "Move disk 2 from B to C\n",
      "Move disk 1 from A to C\n"
     ]
    }
   ],
   "source": [
    "def tower_of_hanoi(n, source, destination, auxiliary):\n",
    "    if n == 1:\n",
    "        print(f\"Move disk 1 from {source} to {destination}\")\n",
    "        return\n",
    "\n",
    "    tower_of_hanoi(n - 1, source, auxiliary, destination)\n",
    "    print(f\"Move disk {n} from {source} to {destination}\")\n",
    "    tower_of_hanoi(n - 1, auxiliary, destination, source)\n",
    "\n",
    "num_disks = 3\n",
    "tower_of_hanoi(num_disks, 'A', 'C', 'B')\n",
    "\n",
    "#In this example, n represents the number of disks, and source, destination, and auxiliary represent the three pegs named 'A',\n",
    "#'B', and 'C' respectively.When you run this program with num_disks = 3, it will print the steps needed to solve \n",
    "#the Tower of Hanoi puzzle with 3 disks, moving the disks from peg 'A' to peg 'C'. \n"
   ]
  },
  {
   "cell_type": "code",
   "execution_count": null,
   "id": "c543c873",
   "metadata": {},
   "outputs": [],
   "source": [
    "Q6. Read about infix, prefix, and postfix expressions. Write a program to convert postfix to prefix expression."
   ]
  },
  {
   "cell_type": "code",
   "execution_count": 36,
   "id": "4bcd981b",
   "metadata": {},
   "outputs": [
    {
     "name": "stdout",
     "output_type": "stream",
     "text": [
      "/+*2342\n"
     ]
    }
   ],
   "source": [
    "def postfix_to_prefix(postfix_expr):\n",
    "    stack = []\n",
    "\n",
    "    for token in postfix_expr:\n",
    "        if token.isalnum():\n",
    "            stack.append(token)\n",
    "        else:\n",
    "            operand2 = stack.pop()\n",
    "            operand1 = stack.pop()\n",
    "            expr = token + operand1 + operand2\n",
    "            stack.append(expr)\n",
    "\n",
    "    return stack.pop()\n",
    "postfix_expression = \"23*4+2/\"\n",
    "prefix_expression = postfix_to_prefix(postfix_expression)\n",
    "print(prefix_expression)\n"
   ]
  },
  {
   "cell_type": "code",
   "execution_count": null,
   "id": "fb1c7398",
   "metadata": {},
   "outputs": [],
   "source": [
    "Q7. Write a program to convert prefix expression to infix expression."
   ]
  },
  {
   "cell_type": "code",
   "execution_count": 37,
   "id": "4e8318a1",
   "metadata": {},
   "outputs": [
    {
     "name": "stdout",
     "output_type": "stream",
     "text": [
      "((2*3)+(4/6))\n"
     ]
    }
   ],
   "source": [
    "def is_operator(char):\n",
    "    operators = ['+', '-', '*', '/']\n",
    "    return char in operators\n",
    "\n",
    "def prefix_to_infix(prefix_expr):\n",
    "    stack = []\n",
    "\n",
    "    for token in reversed(prefix_expr):\n",
    "        if token.isalnum():\n",
    "            stack.append(token)\n",
    "        elif is_operator(token):\n",
    "            operand1 = stack.pop()\n",
    "            operand2 = stack.pop()\n",
    "            expr = '(' + operand1 + token + operand2 + ')'\n",
    "            stack.append(expr)\n",
    "\n",
    "    return stack.pop()\n",
    "prefix_expression = \"+*23/46\"\n",
    "infix_expression = prefix_to_infix(prefix_expression)\n",
    "print(infix_expression)\n"
   ]
  },
  {
   "cell_type": "code",
   "execution_count": null,
   "id": "dcffd962",
   "metadata": {},
   "outputs": [],
   "source": [
    "Q8. Write a program to check if all the brackets are closed in a given code snippet."
   ]
  },
  {
   "cell_type": "code",
   "execution_count": 45,
   "id": "67b0ae9e",
   "metadata": {},
   "outputs": [
    {
     "name": "stdout",
     "output_type": "stream",
     "text": [
      "True\n"
     ]
    }
   ],
   "source": [
    "def are_brackets_closed(code):\n",
    "    stack = []\n",
    "\n",
    "    for char in code:\n",
    "        if char in '([{':\n",
    "            stack.append(char)\n",
    "        elif char in ')]}':\n",
    "            if not stack or not is_matching_bracket(stack[-1], char):\n",
    "                return False\n",
    "            stack.pop()\n",
    "\n",
    "    return len(stack) == 0\n",
    "\n",
    "def is_matching_bracket(opening, closing):\n",
    "    if opening == '(' and closing == ')':\n",
    "        return True\n",
    "    elif opening == '[' and closing == ']':\n",
    "        return True\n",
    "    elif opening == '{' and closing == '}':\n",
    "        return True\n",
    "    return False\n",
    "\n",
    "code_snippet = \"{ [ ( ) ] }\"\n",
    "result = are_brackets_closed(code_snippet)\n",
    "print(result)\n"
   ]
  },
  {
   "cell_type": "code",
   "execution_count": null,
   "id": "95d02e47",
   "metadata": {},
   "outputs": [],
   "source": [
    "Q9. Write a program to reverse a stack."
   ]
  },
  {
   "cell_type": "code",
   "execution_count": 53,
   "id": "74696a20",
   "metadata": {},
   "outputs": [
    {
     "name": "stdout",
     "output_type": "stream",
     "text": [
      "Original stack: [1, 2, 3, 4, 5]\n",
      "Reversed stack: [5, 4, 3, 2, 1]\n"
     ]
    }
   ],
   "source": [
    "class Stack:\n",
    "    def __init__(self):\n",
    "        self.items = []\n",
    "\n",
    "    def is_empty(self):\n",
    "        return len(self.items) == 0\n",
    "\n",
    "    def push(self, item):\n",
    "        self.items.append(item)\n",
    "\n",
    "    def pop(self):\n",
    "        if self.is_empty():\n",
    "            raise IndexError(\"Stack is empty\")\n",
    "        return self.items.pop()\n",
    "\n",
    "    def peek(self):\n",
    "        if self.is_empty():\n",
    "            raise IndexError(\"Stack is empty\")\n",
    "        return self.items[-1]\n",
    "\n",
    "    def size(self):\n",
    "        return len(self.items)\n",
    "\n",
    "def reverse_stack(stack):\n",
    "    if not stack.is_empty():\n",
    "        item = stack.pop()\n",
    "        reverse_stack(stack)\n",
    "        insert_at_bottom(stack, item)\n",
    "\n",
    "def insert_at_bottom(stack, item):\n",
    "    if stack.is_empty():\n",
    "        stack.push(item)\n",
    "    else:\n",
    "        temp = stack.pop()\n",
    "        insert_at_bottom(stack, item)\n",
    "        stack.push(temp)\n",
    "\n",
    "stack = Stack()\n",
    "stack.push(1)\n",
    "stack.push(2)\n",
    "stack.push(3)\n",
    "stack.push(4)\n",
    "stack.push(5)\n",
    "print(\"Original stack:\", stack.items)\n",
    "reverse_stack(stack)\n",
    "print(\"Reversed stack:\", stack.items)\n",
    "\n"
   ]
  },
  {
   "cell_type": "code",
   "execution_count": null,
   "id": "0f8dfb11",
   "metadata": {},
   "outputs": [],
   "source": [
    "Q10. Write a program to find the smallest number using a stack."
   ]
  },
  {
   "cell_type": "code",
   "execution_count": 63,
   "id": "6c667a86",
   "metadata": {},
   "outputs": [
    {
     "name": "stdout",
     "output_type": "stream",
     "text": [
      "Stack elements: [21, 23, 34, 78, 42]\n",
      "Smallest number: 21\n"
     ]
    }
   ],
   "source": [
    "class Stack:\n",
    "    def __init__(self):\n",
    "        self.items = []\n",
    "        self.min_stack = []\n",
    "\n",
    "    def is_empty(self):\n",
    "        return len(self.items) == 0\n",
    "\n",
    "    def push(self, item):\n",
    "        self.items.append(item)\n",
    "        if self.min_stack:\n",
    "            current_min = self.min_stack[-1]\n",
    "            if item < current_min:\n",
    "                self.min_stack.append(item)\n",
    "            else:\n",
    "                self.min_stack.append(current_min)\n",
    "        else:\n",
    "            self.min_stack.append(item)\n",
    "\n",
    "    def pop(self):\n",
    "        if self.is_empty():\n",
    "            raise IndexError(\"Stack is empty\")\n",
    "        self.min_stack.pop()\n",
    "        return self.items.pop()\n",
    "\n",
    "    def peek(self):\n",
    "        if self.is_empty():\n",
    "            raise IndexError(\"Stack is empty\")\n",
    "        return self.items[-1]\n",
    "\n",
    "    def size(self):\n",
    "        return len(self.items)\n",
    "\n",
    "    def get_min(self):\n",
    "        if self.is_empty():\n",
    "            raise IndexError(\"Stack is empty\")\n",
    "        return self.min_stack[-1]\n",
    "stack = Stack()\n",
    "stack.push(21)\n",
    "stack.push(23)\n",
    "stack.push(34)\n",
    "stack.push(78)\n",
    "stack.push(42)\n",
    "print(\"Stack elements:\", stack.items)\n",
    "print(\"Smallest number:\", stack.get_min())\n"
   ]
  },
  {
   "cell_type": "code",
   "execution_count": null,
   "id": "d688c8c2",
   "metadata": {},
   "outputs": [],
   "source": []
  }
 ],
 "metadata": {
  "kernelspec": {
   "display_name": "Python 3",
   "language": "python",
   "name": "python3"
  },
  "language_info": {
   "codemirror_mode": {
    "name": "ipython",
    "version": 3
   },
   "file_extension": ".py",
   "mimetype": "text/x-python",
   "name": "python",
   "nbconvert_exporter": "python",
   "pygments_lexer": "ipython3",
   "version": "3.8.8"
  }
 },
 "nbformat": 4,
 "nbformat_minor": 5
}
